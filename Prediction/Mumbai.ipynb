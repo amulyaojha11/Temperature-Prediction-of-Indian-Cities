{
  "nbformat": 4,
  "nbformat_minor": 0,
  "metadata": {
    "colab": {
      "name": "Mumbai.ipynb",
      "provenance": [],
      "collapsed_sections": [],
      "authorship_tag": "ABX9TyMe+KMs2uruxUYzShdvDicr",
      "include_colab_link": true
    },
    "kernelspec": {
      "name": "python3",
      "display_name": "Python 3"
    },
    "language_info": {
      "name": "python"
    }
  },
  "cells": [
    {
      "cell_type": "markdown",
      "metadata": {
        "id": "view-in-github",
        "colab_type": "text"
      },
      "source": [
        "<a href=\"https://colab.research.google.com/github/amulyaojha11/Temperature-Prediction-of-Indian-Cities/blob/main/Prediction/Mumbai.ipynb\" target=\"_parent\"><img src=\"https://colab.research.google.com/assets/colab-badge.svg\" alt=\"Open In Colab\"/></a>"
      ]
    },
    {
      "cell_type": "markdown",
      "metadata": {
        "id": "HVFVoi0nq7LR"
      },
      "source": [
        "#**ARIMA and Seasonal ARIMA**"
      ]
    },
    {
      "cell_type": "markdown",
      "metadata": {
        "id": "O6N_xrsMrFP1"
      },
      "source": [
        "**Autoregressive Integrated Moving Averages**"
      ]
    },
    {
      "cell_type": "markdown",
      "metadata": {
        "id": "u0uL592arJQ5"
      },
      "source": [
        "The general process for ARIMA models is the following:"
      ]
    },
    {
      "cell_type": "markdown",
      "metadata": {
        "id": "QiP22sEDrLlb"
      },
      "source": [
        "\n",
        "\n",
        "*   Visualize the Time Series Data\n",
        "*   Make the time series data stationary\n",
        "*   Plot the Correlation and AutoCorrelation Charts\n",
        "*   Construct the ARIMA Model or Seasonal ARIMA based on the data\n",
        "*   Use the model to make predictions\n",
        "\n",
        "\n"
      ]
    },
    {
      "cell_type": "markdown",
      "metadata": {
        "id": "iwPIpoyDrhRN"
      },
      "source": [
        "**Let's go through these steps!**"
      ]
    },
    {
      "cell_type": "code",
      "metadata": {
        "id": "wDS3lQpOq0VO"
      },
      "source": [
        "import numpy as np\n",
        "import pandas as pd\n",
        "\n",
        "import matplotlib.pyplot as plt\n",
        "%matplotlib inline"
      ],
      "execution_count": 21,
      "outputs": []
    },
    {
      "cell_type": "code",
      "metadata": {
        "id": "GGtrMDjBr11B"
      },
      "source": [
        "df=pd.read_csv('/content/Mumbai.csv')"
      ],
      "execution_count": 22,
      "outputs": []
    },
    {
      "cell_type": "code",
      "metadata": {
        "colab": {
          "base_uri": "https://localhost:8080/",
          "height": 203
        },
        "id": "RMoZEu8Qr6sf",
        "outputId": "6ccf200a-ed05-45ad-ff90-30686320e0d9"
      },
      "source": [
        "df.head()"
      ],
      "execution_count": 23,
      "outputs": [
        {
          "output_type": "execute_result",
          "data": {
            "text/html": [
              "<div>\n",
              "<style scoped>\n",
              "    .dataframe tbody tr th:only-of-type {\n",
              "        vertical-align: middle;\n",
              "    }\n",
              "\n",
              "    .dataframe tbody tr th {\n",
              "        vertical-align: top;\n",
              "    }\n",
              "\n",
              "    .dataframe thead th {\n",
              "        text-align: right;\n",
              "    }\n",
              "</style>\n",
              "<table border=\"1\" class=\"dataframe\">\n",
              "  <thead>\n",
              "    <tr style=\"text-align: right;\">\n",
              "      <th></th>\n",
              "      <th>Date</th>\n",
              "      <th>Temperature</th>\n",
              "    </tr>\n",
              "  </thead>\n",
              "  <tbody>\n",
              "    <tr>\n",
              "      <th>0</th>\n",
              "      <td>2009-01-01</td>\n",
              "      <td>26.1</td>\n",
              "    </tr>\n",
              "    <tr>\n",
              "      <th>1</th>\n",
              "      <td>2009-02-01</td>\n",
              "      <td>26.6</td>\n",
              "    </tr>\n",
              "    <tr>\n",
              "      <th>2</th>\n",
              "      <td>2009-03-01</td>\n",
              "      <td>29.0</td>\n",
              "    </tr>\n",
              "    <tr>\n",
              "      <th>3</th>\n",
              "      <td>2009-04-01</td>\n",
              "      <td>30.5</td>\n",
              "    </tr>\n",
              "    <tr>\n",
              "      <th>4</th>\n",
              "      <td>2009-05-01</td>\n",
              "      <td>30.1</td>\n",
              "    </tr>\n",
              "  </tbody>\n",
              "</table>\n",
              "</div>"
            ],
            "text/plain": [
              "         Date  Temperature\n",
              "0  2009-01-01         26.1\n",
              "1  2009-02-01         26.6\n",
              "2  2009-03-01         29.0\n",
              "3  2009-04-01         30.5\n",
              "4  2009-05-01         30.1"
            ]
          },
          "metadata": {},
          "execution_count": 23
        }
      ]
    },
    {
      "cell_type": "code",
      "metadata": {
        "colab": {
          "base_uri": "https://localhost:8080/",
          "height": 203
        },
        "id": "c3tRMri3r_qU",
        "outputId": "93fb893a-1546-490a-9bec-0797e419dfe1"
      },
      "source": [
        "df.tail()"
      ],
      "execution_count": 24,
      "outputs": [
        {
          "output_type": "execute_result",
          "data": {
            "text/html": [
              "<div>\n",
              "<style scoped>\n",
              "    .dataframe tbody tr th:only-of-type {\n",
              "        vertical-align: middle;\n",
              "    }\n",
              "\n",
              "    .dataframe tbody tr th {\n",
              "        vertical-align: top;\n",
              "    }\n",
              "\n",
              "    .dataframe thead th {\n",
              "        text-align: right;\n",
              "    }\n",
              "</style>\n",
              "<table border=\"1\" class=\"dataframe\">\n",
              "  <thead>\n",
              "    <tr style=\"text-align: right;\">\n",
              "      <th></th>\n",
              "      <th>Date</th>\n",
              "      <th>Temperature</th>\n",
              "    </tr>\n",
              "  </thead>\n",
              "  <tbody>\n",
              "    <tr>\n",
              "      <th>122</th>\n",
              "      <td>2019-03-01</td>\n",
              "      <td>27.8</td>\n",
              "    </tr>\n",
              "    <tr>\n",
              "      <th>123</th>\n",
              "      <td>2019-04-01</td>\n",
              "      <td>29.9</td>\n",
              "    </tr>\n",
              "    <tr>\n",
              "      <th>124</th>\n",
              "      <td>2019-05-01</td>\n",
              "      <td>30.3</td>\n",
              "    </tr>\n",
              "    <tr>\n",
              "      <th>125</th>\n",
              "      <td>2019-06-01</td>\n",
              "      <td>30.0</td>\n",
              "    </tr>\n",
              "    <tr>\n",
              "      <th>126</th>\n",
              "      <td>2019-07-01</td>\n",
              "      <td>28.5</td>\n",
              "    </tr>\n",
              "  </tbody>\n",
              "</table>\n",
              "</div>"
            ],
            "text/plain": [
              "           Date  Temperature\n",
              "122  2019-03-01         27.8\n",
              "123  2019-04-01         29.9\n",
              "124  2019-05-01         30.3\n",
              "125  2019-06-01         30.0\n",
              "126  2019-07-01         28.5"
            ]
          },
          "metadata": {},
          "execution_count": 24
        }
      ]
    },
    {
      "cell_type": "code",
      "metadata": {
        "id": "G6-80LM6sDnZ"
      },
      "source": [
        "## Drop last 2 rows\n",
        "df.drop(106,axis=0,inplace=True)"
      ],
      "execution_count": 25,
      "outputs": []
    },
    {
      "cell_type": "code",
      "metadata": {
        "colab": {
          "base_uri": "https://localhost:8080/",
          "height": 203
        },
        "id": "4ZUYsGyNsWmr",
        "outputId": "3dab3f41-953a-4990-b174-e3669c651078"
      },
      "source": [
        "df.tail()"
      ],
      "execution_count": 26,
      "outputs": [
        {
          "output_type": "execute_result",
          "data": {
            "text/html": [
              "<div>\n",
              "<style scoped>\n",
              "    .dataframe tbody tr th:only-of-type {\n",
              "        vertical-align: middle;\n",
              "    }\n",
              "\n",
              "    .dataframe tbody tr th {\n",
              "        vertical-align: top;\n",
              "    }\n",
              "\n",
              "    .dataframe thead th {\n",
              "        text-align: right;\n",
              "    }\n",
              "</style>\n",
              "<table border=\"1\" class=\"dataframe\">\n",
              "  <thead>\n",
              "    <tr style=\"text-align: right;\">\n",
              "      <th></th>\n",
              "      <th>Date</th>\n",
              "      <th>Temperature</th>\n",
              "    </tr>\n",
              "  </thead>\n",
              "  <tbody>\n",
              "    <tr>\n",
              "      <th>122</th>\n",
              "      <td>2019-03-01</td>\n",
              "      <td>27.8</td>\n",
              "    </tr>\n",
              "    <tr>\n",
              "      <th>123</th>\n",
              "      <td>2019-04-01</td>\n",
              "      <td>29.9</td>\n",
              "    </tr>\n",
              "    <tr>\n",
              "      <th>124</th>\n",
              "      <td>2019-05-01</td>\n",
              "      <td>30.3</td>\n",
              "    </tr>\n",
              "    <tr>\n",
              "      <th>125</th>\n",
              "      <td>2019-06-01</td>\n",
              "      <td>30.0</td>\n",
              "    </tr>\n",
              "    <tr>\n",
              "      <th>126</th>\n",
              "      <td>2019-07-01</td>\n",
              "      <td>28.5</td>\n",
              "    </tr>\n",
              "  </tbody>\n",
              "</table>\n",
              "</div>"
            ],
            "text/plain": [
              "           Date  Temperature\n",
              "122  2019-03-01         27.8\n",
              "123  2019-04-01         29.9\n",
              "124  2019-05-01         30.3\n",
              "125  2019-06-01         30.0\n",
              "126  2019-07-01         28.5"
            ]
          },
          "metadata": {},
          "execution_count": 26
        }
      ]
    },
    {
      "cell_type": "code",
      "metadata": {
        "id": "4hGjJvbtscWM"
      },
      "source": [
        "df.drop(105,axis=0,inplace=True)"
      ],
      "execution_count": 27,
      "outputs": []
    },
    {
      "cell_type": "code",
      "metadata": {
        "colab": {
          "base_uri": "https://localhost:8080/",
          "height": 203
        },
        "id": "tgWTIlKdseL9",
        "outputId": "459e3f4e-fdc4-4222-a722-0e1d72f908d9"
      },
      "source": [
        "df.tail()"
      ],
      "execution_count": 28,
      "outputs": [
        {
          "output_type": "execute_result",
          "data": {
            "text/html": [
              "<div>\n",
              "<style scoped>\n",
              "    .dataframe tbody tr th:only-of-type {\n",
              "        vertical-align: middle;\n",
              "    }\n",
              "\n",
              "    .dataframe tbody tr th {\n",
              "        vertical-align: top;\n",
              "    }\n",
              "\n",
              "    .dataframe thead th {\n",
              "        text-align: right;\n",
              "    }\n",
              "</style>\n",
              "<table border=\"1\" class=\"dataframe\">\n",
              "  <thead>\n",
              "    <tr style=\"text-align: right;\">\n",
              "      <th></th>\n",
              "      <th>Date</th>\n",
              "      <th>Temperature</th>\n",
              "    </tr>\n",
              "  </thead>\n",
              "  <tbody>\n",
              "    <tr>\n",
              "      <th>122</th>\n",
              "      <td>2019-03-01</td>\n",
              "      <td>27.8</td>\n",
              "    </tr>\n",
              "    <tr>\n",
              "      <th>123</th>\n",
              "      <td>2019-04-01</td>\n",
              "      <td>29.9</td>\n",
              "    </tr>\n",
              "    <tr>\n",
              "      <th>124</th>\n",
              "      <td>2019-05-01</td>\n",
              "      <td>30.3</td>\n",
              "    </tr>\n",
              "    <tr>\n",
              "      <th>125</th>\n",
              "      <td>2019-06-01</td>\n",
              "      <td>30.0</td>\n",
              "    </tr>\n",
              "    <tr>\n",
              "      <th>126</th>\n",
              "      <td>2019-07-01</td>\n",
              "      <td>28.5</td>\n",
              "    </tr>\n",
              "  </tbody>\n",
              "</table>\n",
              "</div>"
            ],
            "text/plain": [
              "           Date  Temperature\n",
              "122  2019-03-01         27.8\n",
              "123  2019-04-01         29.9\n",
              "124  2019-05-01         30.3\n",
              "125  2019-06-01         30.0\n",
              "126  2019-07-01         28.5"
            ]
          },
          "metadata": {},
          "execution_count": 28
        }
      ]
    },
    {
      "cell_type": "code",
      "metadata": {
        "id": "UvbLXoLRsgzf"
      },
      "source": [
        "# Convert Month into Datetime\n",
        "df['Date']=pd.to_datetime(df['Date'])"
      ],
      "execution_count": 29,
      "outputs": []
    },
    {
      "cell_type": "code",
      "metadata": {
        "colab": {
          "base_uri": "https://localhost:8080/",
          "height": 203
        },
        "id": "6IZRAx2VsqfC",
        "outputId": "a4d34e86-4ee5-4cce-f1b2-cf9547d44034"
      },
      "source": [
        "df.head()"
      ],
      "execution_count": 30,
      "outputs": [
        {
          "output_type": "execute_result",
          "data": {
            "text/html": [
              "<div>\n",
              "<style scoped>\n",
              "    .dataframe tbody tr th:only-of-type {\n",
              "        vertical-align: middle;\n",
              "    }\n",
              "\n",
              "    .dataframe tbody tr th {\n",
              "        vertical-align: top;\n",
              "    }\n",
              "\n",
              "    .dataframe thead th {\n",
              "        text-align: right;\n",
              "    }\n",
              "</style>\n",
              "<table border=\"1\" class=\"dataframe\">\n",
              "  <thead>\n",
              "    <tr style=\"text-align: right;\">\n",
              "      <th></th>\n",
              "      <th>Date</th>\n",
              "      <th>Temperature</th>\n",
              "    </tr>\n",
              "  </thead>\n",
              "  <tbody>\n",
              "    <tr>\n",
              "      <th>0</th>\n",
              "      <td>2009-01-01</td>\n",
              "      <td>26.1</td>\n",
              "    </tr>\n",
              "    <tr>\n",
              "      <th>1</th>\n",
              "      <td>2009-02-01</td>\n",
              "      <td>26.6</td>\n",
              "    </tr>\n",
              "    <tr>\n",
              "      <th>2</th>\n",
              "      <td>2009-03-01</td>\n",
              "      <td>29.0</td>\n",
              "    </tr>\n",
              "    <tr>\n",
              "      <th>3</th>\n",
              "      <td>2009-04-01</td>\n",
              "      <td>30.5</td>\n",
              "    </tr>\n",
              "    <tr>\n",
              "      <th>4</th>\n",
              "      <td>2009-05-01</td>\n",
              "      <td>30.1</td>\n",
              "    </tr>\n",
              "  </tbody>\n",
              "</table>\n",
              "</div>"
            ],
            "text/plain": [
              "        Date  Temperature\n",
              "0 2009-01-01         26.1\n",
              "1 2009-02-01         26.6\n",
              "2 2009-03-01         29.0\n",
              "3 2009-04-01         30.5\n",
              "4 2009-05-01         30.1"
            ]
          },
          "metadata": {},
          "execution_count": 30
        }
      ]
    },
    {
      "cell_type": "code",
      "metadata": {
        "id": "B4LRi_nRsu_2"
      },
      "source": [
        "df.set_index('Date',inplace=True)"
      ],
      "execution_count": 31,
      "outputs": []
    },
    {
      "cell_type": "code",
      "metadata": {
        "colab": {
          "base_uri": "https://localhost:8080/",
          "height": 234
        },
        "id": "hWyTAn7CtWLy",
        "outputId": "5befb094-d9eb-4bf3-94d6-150f1e003b31"
      },
      "source": [
        "df.head()"
      ],
      "execution_count": 32,
      "outputs": [
        {
          "output_type": "execute_result",
          "data": {
            "text/html": [
              "<div>\n",
              "<style scoped>\n",
              "    .dataframe tbody tr th:only-of-type {\n",
              "        vertical-align: middle;\n",
              "    }\n",
              "\n",
              "    .dataframe tbody tr th {\n",
              "        vertical-align: top;\n",
              "    }\n",
              "\n",
              "    .dataframe thead th {\n",
              "        text-align: right;\n",
              "    }\n",
              "</style>\n",
              "<table border=\"1\" class=\"dataframe\">\n",
              "  <thead>\n",
              "    <tr style=\"text-align: right;\">\n",
              "      <th></th>\n",
              "      <th>Temperature</th>\n",
              "    </tr>\n",
              "    <tr>\n",
              "      <th>Date</th>\n",
              "      <th></th>\n",
              "    </tr>\n",
              "  </thead>\n",
              "  <tbody>\n",
              "    <tr>\n",
              "      <th>2009-01-01</th>\n",
              "      <td>26.1</td>\n",
              "    </tr>\n",
              "    <tr>\n",
              "      <th>2009-02-01</th>\n",
              "      <td>26.6</td>\n",
              "    </tr>\n",
              "    <tr>\n",
              "      <th>2009-03-01</th>\n",
              "      <td>29.0</td>\n",
              "    </tr>\n",
              "    <tr>\n",
              "      <th>2009-04-01</th>\n",
              "      <td>30.5</td>\n",
              "    </tr>\n",
              "    <tr>\n",
              "      <th>2009-05-01</th>\n",
              "      <td>30.1</td>\n",
              "    </tr>\n",
              "  </tbody>\n",
              "</table>\n",
              "</div>"
            ],
            "text/plain": [
              "            Temperature\n",
              "Date                   \n",
              "2009-01-01         26.1\n",
              "2009-02-01         26.6\n",
              "2009-03-01         29.0\n",
              "2009-04-01         30.5\n",
              "2009-05-01         30.1"
            ]
          },
          "metadata": {},
          "execution_count": 32
        }
      ]
    },
    {
      "cell_type": "code",
      "metadata": {
        "colab": {
          "base_uri": "https://localhost:8080/",
          "height": 295
        },
        "id": "vFlF2i8htaq5",
        "outputId": "3e4ca8e1-d8a6-4261-940a-866568743a06"
      },
      "source": [
        "df.describe()"
      ],
      "execution_count": 33,
      "outputs": [
        {
          "output_type": "execute_result",
          "data": {
            "text/html": [
              "<div>\n",
              "<style scoped>\n",
              "    .dataframe tbody tr th:only-of-type {\n",
              "        vertical-align: middle;\n",
              "    }\n",
              "\n",
              "    .dataframe tbody tr th {\n",
              "        vertical-align: top;\n",
              "    }\n",
              "\n",
              "    .dataframe thead th {\n",
              "        text-align: right;\n",
              "    }\n",
              "</style>\n",
              "<table border=\"1\" class=\"dataframe\">\n",
              "  <thead>\n",
              "    <tr style=\"text-align: right;\">\n",
              "      <th></th>\n",
              "      <th>Temperature</th>\n",
              "    </tr>\n",
              "  </thead>\n",
              "  <tbody>\n",
              "    <tr>\n",
              "      <th>count</th>\n",
              "      <td>125.000000</td>\n",
              "    </tr>\n",
              "    <tr>\n",
              "      <th>mean</th>\n",
              "      <td>28.195200</td>\n",
              "    </tr>\n",
              "    <tr>\n",
              "      <th>std</th>\n",
              "      <td>1.634204</td>\n",
              "    </tr>\n",
              "    <tr>\n",
              "      <th>min</th>\n",
              "      <td>23.600000</td>\n",
              "    </tr>\n",
              "    <tr>\n",
              "      <th>25%</th>\n",
              "      <td>27.300000</td>\n",
              "    </tr>\n",
              "    <tr>\n",
              "      <th>50%</th>\n",
              "      <td>28.300000</td>\n",
              "    </tr>\n",
              "    <tr>\n",
              "      <th>75%</th>\n",
              "      <td>29.400000</td>\n",
              "    </tr>\n",
              "    <tr>\n",
              "      <th>max</th>\n",
              "      <td>31.200000</td>\n",
              "    </tr>\n",
              "  </tbody>\n",
              "</table>\n",
              "</div>"
            ],
            "text/plain": [
              "       Temperature\n",
              "count   125.000000\n",
              "mean     28.195200\n",
              "std       1.634204\n",
              "min      23.600000\n",
              "25%      27.300000\n",
              "50%      28.300000\n",
              "75%      29.400000\n",
              "max      31.200000"
            ]
          },
          "metadata": {},
          "execution_count": 33
        }
      ]
    },
    {
      "cell_type": "code",
      "metadata": {
        "colab": {
          "base_uri": "https://localhost:8080/",
          "height": 286
        },
        "id": "Ci1KXS4AtiTP",
        "outputId": "d575d441-059f-4661-eba8-8c7e517a3a39"
      },
      "source": [
        "df.plot()"
      ],
      "execution_count": 34,
      "outputs": [
        {
          "output_type": "execute_result",
          "data": {
            "text/plain": [
              "<matplotlib.axes._subplots.AxesSubplot at 0x7f32810af7d0>"
            ]
          },
          "metadata": {},
          "execution_count": 34
        },
        {
          "output_type": "display_data",
          "data": {
            "image/png": "[encoded data removed]",
            "text/plain": [
              "<Figure size 432x288 with 1 Axes>"
            ]
          },
          "metadata": {
            "needs_background": "light"
          }
        }
      ]
    },
    {
      "cell_type": "code",
      "metadata": {
        "colab": {
          "base_uri": "https://localhost:8080/"
        },
        "id": "_CAw4UK-tnW0",
        "outputId": "d41d8590-0f87-4a2d-da6a-bba5c79fddc0"
      },
      "source": [
        "### Testing For Stationarity\n",
        "\n",
        "from statsmodels.tsa.stattools import adfuller"
      ],
      "execution_count": 35,
      "outputs": [
        {
          "output_type": "stream",
          "name": "stderr",
          "text": [
            "/usr/local/lib/python3.7/dist-packages/statsmodels/tools/_testing.py:19: FutureWarning: pandas.util.testing is deprecated. Use the functions in the public API at pandas.testing instead.\n",
            "  import pandas.util.testing as tm\n"
          ]
        }
      ]
    },
    {
      "cell_type": "code",
      "metadata": {
        "id": "PvKHOc7rtqmE"
      },
      "source": [
        "test_result=adfuller(df['Temperature'])"
      ],
      "execution_count": 36,
      "outputs": []
    },
    {
      "cell_type": "code",
      "metadata": {
        "id": "grcDo2_jtz_t"
      },
      "source": [
        "#Ho: It is non stationary\n",
        "#H1: It is stationary\n",
        "\n",
        "def adfuller_test(Temperature):\n",
        "    result=adfuller(Temperature)\n",
        "    labels = ['ADF Test Statistic','p-value','#Lags Used','Number of Observations Used']\n",
        "    for value,label in zip(result,labels):\n",
        "        print(label+' : '+str(value) )\n",
        "    if result[1] <= 0.05:\n",
        "        print(\"strong evidence against the null hypothesis(Ho), reject the null hypothesis. Data has no unit root and is stationary\")\n",
        "    else:\n",
        "        print(\"weak evidence against null hypothesis, time series has a unit root, indicating it is non-stationary \")\n",
        "    "
      ],
      "execution_count": 37,
      "outputs": []
    },
    {
      "cell_type": "code",
      "metadata": {
        "colab": {
          "base_uri": "https://localhost:8080/"
        },
        "id": "y02I6rdguB4P",
        "outputId": "4969f25f-1d83-4f5e-88be-50a600de8cd5"
      },
      "source": [
        "adfuller_test(df['Temperature'])"
      ],
      "execution_count": 38,
      "outputs": [
        {
          "output_type": "stream",
          "name": "stdout",
          "text": [
            "ADF Test Statistic : -1.554623259079144\n",
            "p-value : 0.5063380109440624\n",
            "#Lags Used : 11\n",
            "Number of Observations Used : 113\n",
            "weak evidence against null hypothesis, time series has a unit root, indicating it is non-stationary \n"
          ]
        }
      ]
    },
    {
      "cell_type": "markdown",
      "metadata": {
        "id": "Yy8jYWtLuJCf"
      },
      "source": [
        "##**Differencing**"
      ]
    },
    {
      "cell_type": "code",
      "metadata": {
        "id": "jK1dy3HbuLIT"
      },
      "source": [
        "df['Temperature First Difference'] = df['Temperature'] - df['Temperature'].shift(1)"
      ],
      "execution_count": 39,
      "outputs": []
    },
    {
      "cell_type": "code",
      "metadata": {
        "colab": {
          "base_uri": "https://localhost:8080/"
        },
        "id": "7LCw_SnHuV9d",
        "outputId": "cf54d073-c476-4039-ec42-dd70eaa920e8"
      },
      "source": [
        "df['Temperature'].shift(1)"
      ],
      "execution_count": 40,
      "outputs": [
        {
          "output_type": "execute_result",
          "data": {
            "text/plain": [
              "Date\n",
              "2009-01-01     NaN\n",
              "2009-02-01    26.1\n",
              "2009-03-01    26.6\n",
              "2009-04-01    29.0\n",
              "2009-05-01    30.5\n",
              "              ... \n",
              "2019-03-01    26.0\n",
              "2019-04-01    27.8\n",
              "2019-05-01    29.9\n",
              "2019-06-01    30.3\n",
              "2019-07-01    30.0\n",
              "Name: Temperature, Length: 125, dtype: float64"
            ]
          },
          "metadata": {},
          "execution_count": 40
        }
      ]
    },
    {
      "cell_type": "code",
      "metadata": {
        "id": "7xpuBiRLueFt"
      },
      "source": [
        "df['Seasonal First Difference']=df['Temperature']-df['Temperature'].shift(12)"
      ],
      "execution_count": 41,
      "outputs": []
    },
    {
      "cell_type": "code",
      "metadata": {
        "colab": {
          "base_uri": "https://localhost:8080/",
          "height": 511
        },
        "id": "b-AvnLAHuk7N",
        "outputId": "3259c4d0-9f7b-42df-a98f-8edb8dac7dfa"
      },
      "source": [
        "df.head(14)"
      ],
      "execution_count": 42,
      "outputs": [
        {
          "output_type": "execute_result",
          "data": {
            "text/html": [
              "<div>\n",
              "<style scoped>\n",
              "    .dataframe tbody tr th:only-of-type {\n",
              "        vertical-align: middle;\n",
              "    }\n",
              "\n",
              "    .dataframe tbody tr th {\n",
              "        vertical-align: top;\n",
              "    }\n",
              "\n",
              "    .dataframe thead th {\n",
              "        text-align: right;\n",
              "    }\n",
              "</style>\n",
              "<table border=\"1\" class=\"dataframe\">\n",
              "  <thead>\n",
              "    <tr style=\"text-align: right;\">\n",
              "      <th></th>\n",
              "      <th>Temperature</th>\n",
              "      <th>Temperature First Difference</th>\n",
              "      <th>Seasonal First Difference</th>\n",
              "    </tr>\n",
              "    <tr>\n",
              "      <th>Date</th>\n",
              "      <th></th>\n",
              "      <th></th>\n",
              "      <th></th>\n",
              "    </tr>\n",
              "  </thead>\n",
              "  <tbody>\n",
              "    <tr>\n",
              "      <th>2009-01-01</th>\n",
              "      <td>26.1</td>\n",
              "      <td>NaN</td>\n",
              "      <td>NaN</td>\n",
              "    </tr>\n",
              "    <tr>\n",
              "      <th>2009-02-01</th>\n",
              "      <td>26.6</td>\n",
              "      <td>0.5</td>\n",
              "      <td>NaN</td>\n",
              "    </tr>\n",
              "    <tr>\n",
              "      <th>2009-03-01</th>\n",
              "      <td>29.0</td>\n",
              "      <td>2.4</td>\n",
              "      <td>NaN</td>\n",
              "    </tr>\n",
              "    <tr>\n",
              "      <th>2009-04-01</th>\n",
              "      <td>30.5</td>\n",
              "      <td>1.5</td>\n",
              "      <td>NaN</td>\n",
              "    </tr>\n",
              "    <tr>\n",
              "      <th>2009-05-01</th>\n",
              "      <td>30.1</td>\n",
              "      <td>-0.4</td>\n",
              "      <td>NaN</td>\n",
              "    </tr>\n",
              "    <tr>\n",
              "      <th>2009-06-01</th>\n",
              "      <td>29.9</td>\n",
              "      <td>-0.2</td>\n",
              "      <td>NaN</td>\n",
              "    </tr>\n",
              "    <tr>\n",
              "      <th>2009-07-01</th>\n",
              "      <td>27.6</td>\n",
              "      <td>-2.3</td>\n",
              "      <td>NaN</td>\n",
              "    </tr>\n",
              "    <tr>\n",
              "      <th>2009-08-01</th>\n",
              "      <td>28.2</td>\n",
              "      <td>0.6</td>\n",
              "      <td>NaN</td>\n",
              "    </tr>\n",
              "    <tr>\n",
              "      <th>2009-09-01</th>\n",
              "      <td>28.3</td>\n",
              "      <td>0.1</td>\n",
              "      <td>NaN</td>\n",
              "    </tr>\n",
              "    <tr>\n",
              "      <th>2009-10-01</th>\n",
              "      <td>29.0</td>\n",
              "      <td>0.7</td>\n",
              "      <td>NaN</td>\n",
              "    </tr>\n",
              "    <tr>\n",
              "      <th>2009-11-01</th>\n",
              "      <td>28.1</td>\n",
              "      <td>-0.9</td>\n",
              "      <td>NaN</td>\n",
              "    </tr>\n",
              "    <tr>\n",
              "      <th>2009-12-01</th>\n",
              "      <td>26.8</td>\n",
              "      <td>-1.3</td>\n",
              "      <td>NaN</td>\n",
              "    </tr>\n",
              "    <tr>\n",
              "      <th>2010-01-01</th>\n",
              "      <td>26.7</td>\n",
              "      <td>-0.1</td>\n",
              "      <td>0.6</td>\n",
              "    </tr>\n",
              "    <tr>\n",
              "      <th>2010-02-01</th>\n",
              "      <td>26.4</td>\n",
              "      <td>-0.3</td>\n",
              "      <td>-0.2</td>\n",
              "    </tr>\n",
              "  </tbody>\n",
              "</table>\n",
              "</div>"
            ],
            "text/plain": [
              "            Temperature  ...  Seasonal First Difference\n",
              "Date                     ...                           \n",
              "2009-01-01         26.1  ...                        NaN\n",
              "2009-02-01         26.6  ...                        NaN\n",
              "2009-03-01         29.0  ...                        NaN\n",
              "2009-04-01         30.5  ...                        NaN\n",
              "2009-05-01         30.1  ...                        NaN\n",
              "2009-06-01         29.9  ...                        NaN\n",
              "2009-07-01         27.6  ...                        NaN\n",
              "2009-08-01         28.2  ...                        NaN\n",
              "2009-09-01         28.3  ...                        NaN\n",
              "2009-10-01         29.0  ...                        NaN\n",
              "2009-11-01         28.1  ...                        NaN\n",
              "2009-12-01         26.8  ...                        NaN\n",
              "2010-01-01         26.7  ...                        0.6\n",
              "2010-02-01         26.4  ...                       -0.2\n",
              "\n",
              "[14 rows x 3 columns]"
            ]
          },
          "metadata": {},
          "execution_count": 42
        }
      ]
    },
    {
      "cell_type": "code",
      "metadata": {
        "colab": {
          "base_uri": "https://localhost:8080/"
        },
        "id": "IDtnrsJou392",
        "outputId": "5c03c972-fc7a-4be7-bf94-0077c893df88"
      },
      "source": [
        "## Again test dickey fuller test\n",
        "adfuller_test(df['Seasonal First Difference'].dropna())"
      ],
      "execution_count": 43,
      "outputs": [
        {
          "output_type": "stream",
          "name": "stdout",
          "text": [
            "ADF Test Statistic : -2.566918301673897\n",
            "p-value : 0.1000291380073528\n",
            "#Lags Used : 13\n",
            "Number of Observations Used : 99\n",
            "weak evidence against null hypothesis, time series has a unit root, indicating it is non-stationary \n"
          ]
        }
      ]
    },
    {
      "cell_type": "code",
      "metadata": {
        "colab": {
          "base_uri": "https://localhost:8080/",
          "height": 286
        },
        "id": "_cJ_hjypu9ET",
        "outputId": "78a0eecc-2c03-43c7-a540-746f90789c37"
      },
      "source": [
        "df['Seasonal First Difference'].plot()"
      ],
      "execution_count": 45,
      "outputs": [
        {
          "output_type": "execute_result",
          "data": {
            "text/plain": [
              "<matplotlib.axes._subplots.AxesSubplot at 0x7f32681c7c10>"
            ]
          },
          "metadata": {},
          "execution_count": 45
        },
        {
          "output_type": "display_data",
          "data": {
            "image/png": "[encoded data removed]",
            "text/plain": [
              "<Figure size 432x288 with 1 Axes>"
            ]
          },
          "metadata": {
            "needs_background": "light"
          }
        }
      ]
    },
    {
      "cell_type": "markdown",
      "metadata": {
        "id": "4dmnEL4CvBgj"
      },
      "source": [
        "##**Auto Regressive Model**"
      ]
    },
    {
      "cell_type": "markdown",
      "metadata": {
        "id": "Hx4xz8xhvJiN"
      },
      "source": [
        "![arima.PNG](data:image/png;base64,iVBORw0KGgoAAAANSUhEUgAAAyoAAABbCAYAAACcX3E+AAAAAXNSR0IArs4c6QAAAARnQU1BAACxjwv8YQUAAAAJcEhZcwAAEnQAABJ0Ad5mH3gAADCrSURBVHhe7d2HXxTX/v/x3/+Um9xoElONxhhLrFjRKHZR7F3sXewNBARFFEEQLIgUKdIEpPfel7awbGF3ef3OrCQ3VzFRLN/15vN8PCaPOGybmTMz5z1zzpn/hxBCCCGEEEI4GQkqQgghhBBCCKcjQUUIIYQQQgjhdCSoCCGEEEIIIZyOBBUhhBBCCCGE05GgIoQQQgghhHA6ElSEEEIIIYQQTkeCihDif0y/mgwUhG3Cc+4nfPLJnydXVu69Q6bh+SuFEEII4bwkqAgh/sdoQcVKd2MBxU/jiY//85RFbkkTndbnrxRCCCGE85KgIoQQQgghhHA6ElSEEEIIIYQQTkeCihBCCCGEEMLpSFARQgghhBBCOB0JKkIIIYQQQginI0FFCCGEEEII4XQkqAghhBBCCCGcjgQVIYQQQgghhNORoCKEEEIIIYRwOhJUhBBCCCGEEE5HgooQQgghhBDC6UhQEUIIIYQQQjgdCSpCCCGEEEIIpyNBRQghhBBCCOF0JKgIIYQQQgghnI4EFSGEEEIIIYTTkaAihBBCCCGEcDoSVIQQQgghhBBOR4KKEEIIIYQQwulIUBFCCCGEEEI4HQkqQgghhBBCCKcjQUUIIYQQQgjhdCSoCCGEEEIIIZyOBBUhhBBCCCGE05GgIoQQQgghhHA6ElSEEA79dhu9DVkUVNdR1WEemCs+uH4jxo5GCh8U0thpwtQ/MF+I98pIR1UpNYUlNPSCXcqdEMIJSFARQij92Pp6qLi1gkPXw7me2zkwX3xwfXXUZdxh+wgvHha20GobmC/E+2SrId3/LFcPXuBhE1jtA/OFEOL/kAQVIYTSh9VUR+KBKVy69YC4Oqml/J9pz6fgkTffLAslrbYTo1zZFh+CPp3bR/w46RlJQZ/KLVLuhBBOQIKKEM7O2EpvSQSefikklbVjGpj9Ttm7sejTCJzjyY2ILAp7B+aLPzHSnPuApGtHiahU9TrLwOx3zFCVQMqtHUy6kEupzohExpfVPz5CRNxDHlUYB+b8b2tIOs6d2Hs8LH9/y2stDeW0dxA7ArPpUiGlX4LKf+trR1+dwqVNEaQVtyD3nIX4MCSoCOHsumvpTj/FxK2h3HragGFg9jtlacVUHcqORX5ExFfQKrXjQfRQmXCZm3vmc/oZqAzxHvTRkhPGgwvL2fiok4Zuafc1mNIbrpy96s+1nJ6BOf/bykIWcP6qNwFZ3QNz3r32xKOcvhrEsbhGtFInOeUFpgba8kLZ+MNp7qbV0DIwWwjxfklQEcLZddfQnXqC8ZtvqqBS/16Cik1fjS75EAv3R3L/WdP7uWvz0euhIt6H67tcOZHznoKKvZ3yR1cJ3roW31JokzENBlV6fQ5nA/y4lv0PCSo35nM+4BIBT99HUNGuShgouLqOy9euczP/n3GX6o2Z6ml7dpONX5/gbmq1BBUhPhAJKuID68dmMWLUt6PT6WhuaaPLYMbye4Norb1Bfx+mni703T30WD6yS/t2GzZzLz2dbbSp5dOWUdfWQUeXAZNtiCPpvIeg0q/Wc7+tD3NvN/qONuoKE0m6OJO5p+8S8bSGju5ejH1DWPf9dqxq+Q2darlbW2hp6UDfa+GPj9K2r82MsbuL7m6D+o6P6brtewgq2nawW+kzGdBrZaYpjdhLFznocoywSh21HWodWaxv3F/AsX2tRgz6TtpaW1U5VJ/do7aDzT5wpVzb/up7DVrZVNvabP2omphJUHlLqnzYrRbH/t/V3oiuJZPQrUs5ezaAiMJ2OvS9mFWhe+PjlXb8s/Sib1flTe3/rW1ddBosjvKr7fqOl/SZ1PFdT6cqd2b1BR/N6GLvOqioY6Xdqh0LO+nQqWNlcxNNTc00t7ap468Js1X9/WNZN0K8RxJUxAdmpb3gIdFn1+DmtoBJU1Zw+GYWz5oHmrj0W8FSRfK1I1y4fJ3rOe+vqcN70atONDmRXNu7kuWLlrBo8WIWr9zKTq/bpDSDUS3eG3sfQUVVKPpay8iKuswpzxXMmzmeX0Z9yahx45m4cC1bL0URXzaEdW/vpD4znJC9atnnTWfyjB2cjcynVD/w9361ndszifY7wSX/MB5W9Q384WPwHoKKXVUWu+qoSr7Bub2rWOU6mV9//pmvf5zARJcFbDwWwsPcBtrfsD+MFlT6qh8ScmoXq+fOZeGC5awKLKCy3eho1qPSIqb2aspCPNlxPJwHOe+pSeF7IkHlLdn60DfkkxF1Ea/NC1g4YzxjRo5m9M/jcVm0lm3n75PeYqX7TXdPYwsdBVGcX78C97nTmLX6CAdC8x0j1/1e6e6tTCIx+AK7D90hu9uC4WNJyO86qFj0GOvSifHfz/ZlLkwdN4qRP41j7OxVbPVJIbtO/f0ju04nxPsgQUV8UL2ld7l9y499fsHExl5m56ifmb3aF9+kOrT+29pVYGvxDfZ7zMJ103HOPml//saPQHdlIjGX97N7/SZ2Xb5LdFIGqfe8ObNtCTNcV7HwehEN6sT8xueedxlU7GZ6dSXkRZ5kz6adHLl4k7CHd4j082Ldl8s5fTOaiDu+XDi4lfWbj+GjKkad2q2gv6XVQqy0ZN0gIvg8XgFhpEUeZeUvk5i95zpXn7U5XmW3mdElH2H3yiks23GaWyUf05n43QYVW2c5RbFXuHhwC+5HgwiNSea+vyf79m9g3onbpKY84NoBd7bsOMm5yFwaXjfkWg30d2RwY98lrly5S/BVL064j+bbXw8TlttMqxZ67O3oiu/iO/lHJi72JjC5mq7n7/4oSFAZIrX/oS8l/eYxju47yN4zN7gXG8OTKxuYvs4LT+9Q7of747vPg/mrzxKuAmzz67YDtbVRn/WQ2/sO4B2VTsTFjXgsno3r1jPcr2Xgrmo7pVEnOeG2gKlzAkjSm+n+BwYVW3sRhQ+vcGiTJ4cu+BEUGsndu1Hq2OnDxX3rcHPdjG9sCRUf2XU6Id4HCSriw+hXZyNVOSoM8sLnoqqcJebTVhzEth+/ZdTis5yKrUZrjm8z62m658FSlzG4bDzL1fyhDj9lxdhRR0VSCBG3QwgJHcJ0+zYhTyqoaf/rkZe0pjs2XQ4x3jtYu3QZv229xP3CNkcFX5dxgYubJjD6V1dc/Iuo11vevJPqOwsqdgwNuTwNPc62xfNZ6nmZq/HFVFU/Iz8mELfpF0ms6kSnK+ZJ0B62ubkwff8T8lWN3Dzwo21mAz11BRTWddHR+6eas7Z9zRUkep/C+2wQt7KK0D85xuKfv2XiFlXxydSCig1bXzu5l+exZNJEFm7352Hj87e/D+b2OhrqailreVc9bt5RUNHawBgqyblznuNbPFiy4SCnovMp03WSf+cwV7yPcDS5jX5bJ5X3D7J96WKW7/TnbrUqO/1WOotTSHoYzvWgIAICbnBDvbem6z/bqK+7ntaEXezcG0J4UiFZsX6cn/cd/xq2g+vZjTRpV8kNFVTGn8L1k0/40SOIm0/fdb8kO6a2GqrS7jn2pUD/K1wLjSUpvx69Kiq/NwMaqncVVOzWPnpbG2htN9Br/vtAbupopb2ti67ev7nVYLfQ29VOu65D7Sdvv7zvJKjYjRh1RaRd2cX2lcvZuM+bawml1DbWUX9rEWsv3udWdjP6lmdkh+7itxG/ssk3mSd1r1fQrS2ZJN+5zHrPQFKbesgK3sjG2RNwWXmc278HFVMRcWc3sHzsDMa63yHf0PfxDL/9zoJKL42poUSd2sPu0xHcSy+isqmL7p5eetpqqc6KJfxqKClFTTS/i7u2QnzkJKiID0Nr8mOrJzMgiIcRiWRXFFMdsYlp333HBM+bXM/pUC+yYTHUk3FqLK5jf2XZ/hDiW7X3aiHHQFdLI63qxK9/rQ7GffQ0F5F98xCnvA5x6MgQpuNeHLqdTUFj90BzmcFobbI7aIg+wNZZ4xm/YBe77lWrb1c/W00tT/0JPrWGDXtOcSmtna5X3J2w6htpqMwnKzvr5Sn5HklXNzF6yVG8gh/wZLDXPCuhuKrNcVfqVaHKbmgg/945Di6fyncunlxObaKux05ffTIp4ccY5RlHoc6gfruNxnQ/rmwcw/Bxp4kqb6G6voKqwizSk2K453MIr7tFFDT96SyqbV9DLo98o4gKzaS0LpeCC6788v0Y3I5HEl2hqsH9JqzGYu5u+IXZY5aw5ngM+dpsVYuz97bT2qRzVBiHPuqvjT5jJ62lWRTkZpEQ5kdgcBiBGbqBv/8dqypqXTQX5VM42DrOTiHSdw+H3aew6WYWcamDvSaL4tpW2npfVWLs6jt6aU3z5cTKecyet5XtIXm02fqx2htIubAH/+NnCa9RL9XKfVM0Puvn4bpwG7ui67G1FREdcIaTxw6wY+s6PNxcmTx/P96JpVR2mR3b3txZR3XkdnziinhW/oz06/tZ/dMYvnAJJK6inW5VMK1NmTwN8uDfKqhMPRmn5msVfhtWi4H2umqaVO3a8Bb9w+yGJspVSAk4sY9dhw+x1X0ev/2m9gOvUB5V67Gpbf7q+qkVU1czjcWDr19tunN4EtsP7ONgcMqgf8/OKyC/UYUPy6v33H6znq6aHO5fu0zQzVjSVMWw8xWFr9+m1m1nBSlRN7kZHMXD1HJaHWV34AUvsLTmkfEojBvBkdx5XEu7VW3fVy6wWl59i2N5swdZFm2KPDaNnft3s/968qB/z87LJ7+hR22zV5c7i/r9ZXGn2DjuG2asPIVfvFqGPiu92oWJfT9yNFQF4Bp1cLXraCu7zfEvhjF1wzWCM5vVL/x7lpoUUmLD2B1VQk93OVH7ZzN/0lwWeIaSoVdLqZbf3hzHVc/FTJzghsv5LHRmq+PYau1V4U/XTF1LDxat38rzj/zwenU0VBUPuo6z0qKJDzmK25ebOHf1HrGDvSa7kOKKZjrVCnt1/5JWcoJPc8VzDwH5Rjo6utB3dtKpN2AwDb6mtf5kls5GmppV+O0xO9aZEP8UElTEh6Gd0W0WjAYLZpOR9tJH3N0ynO++msiOq2lka3XJfgOmzkxuLRvJ1O9WsflMEkVajd+u/mMsJCU0kIi76kTtTMOt9Bsx6/MIW/UT078djdvOAKJrB/42wKbOKn1/cwG2p+AOYRe2snjZ4penRXNZOGsUw0eOY8psVxYN9hqPg+z3TkL76pe/Sjtj9mMqDMHXcy7fjndlwfUKGh0PArHTURDOvSsbmXmtgoaBec0Z/gSt/45hX67nclYZMWHn8PF0Y+G86Yz6fDhjj8YSX/57xxPFsX37MBm17dtOU34k3jM+5YcR7hwOy6ZEyzS2TixtDzgzcTTjJ+5kR1AOzdpb7VaMpfcJvx7FnYRidRofKhNd9SpAHF3MtvULmfLTSH6at5n1kdUDf/87vWoRnvFgzxY8B1vHyxYx22UCv4wawag5i5mv9T8a5HX7rsWSVP2K+xP9qsJrLidi06/MHvsbKw9H4bgpoIUSYzrhO8/hvTeSLEc7SDWvNUYFxvlMmrGWud5x6B95Mn9HEFdTqmnT5VMcsYuZn/+Lrz0CuJHZ4LirYlcFztKjKnx9NozFEQTtn8+In6Yxxa+MSscwYna6Sh5w7/AEPvlkGFtu5vGsRRXS/l70zfnEnDtK8ONKynRDjYz9mIvvEOJ7CtcjcdSpGmpvWQjeG2YybvISZp1Lp1vV4l49QICBprwHhB9YzJJB1q82zZswgp/HTWTczEWD/n35xu1sDq+ktuPVVzVsKkwUhW3lu3//i08/ncGmS7FkvKKlqb23FUvmcRZP+ZHPP52A6wZfolXhfdUytMUfwHPRaD4dNplx8/xINVjpeWXt20BzQQx31PIuW/7ysmjTvIlfM3acKnuvWN5lG7ayOaycqrZXl7uWZ7cJWT+Cz4fNYH9kEYXag0D6VVirSyLIdTpXYgoocMxrp60iCi8VVEa7nuRibDmvdd/KYqbPZMKgQoe18hp7Zo9j9MztbLqR57gLrK0qU44/h9ZM5btZ7qy/1zAwYIcdfVkKqSoEXrpTQJsqt6/byvGdq04gzGf/oOt48RJXfps7jm8+G8XUWSqADfaaZbs4cC6abLXArx4npJln10/js3Ezx6PzSI+PJSEmhkfJuTyr6nCEtP9+q9pXTHpaHvtz9VYc8flNyI0W8U8iQUV8GFpFVk12VUHpt9ZTmXiZAyO+5KvRB/BNqHjeHKVPR09lGHvGfseoGYc4FF5Iu3bEtqrDclkQnitXse7wDeLeY3OhN2bR0VsZwr7x3zN6+DI2n4qj+IX63cCi/yW7pReDvgNdmzZK2AtTdQ7V0fsZu8YX/9g8agd7TVsnnd0mxwn+5a/S5vRRHrWNvQtGMW7WDgJL+uiyaPN7qIjzIfjgco5m9NHuaIfRSUXMWU7NVuHoy8OElLRS362nu6OE3FhfdqmgMmWwoKKmfm376ssovn+CecM/Z7jbJYLTa59X0nobMWafZe7Y7/li5RmOxdc6rgzarSbKQxewds0e9gY8ZeibV5UvbRSdrlY62tO4uWERK94oqNjVIqgw3dlBx6DruIbMO6fw3jKTAwk6SuoHe42Ozh4jplddPje3Y626xY5pPzHyt33sulP0vDOxFkrKrnPIy599gZnofp9XFMRe92mMnL+OFT4RPN41gvlrLzqCiq6vG11pDAELP2H0D2s5HJJFuaqXO0b8smvL0kdl9D6OLFH706SVnM7qo7VX+10G6p4E4LvkWxVUFnE+qZpqbb65nrr0QDZ+8wO7r2WT1TDUoNJLWeQ+Tm1ZymIVVCrVujBZmkjz38TGKb8y3vUSid39vPoRMXasFiO92shxg6xfbUr3duHI+TNcjK8Z9O9t7R209/ZhfXUaUrmshrqUi6z64VO+n7CZY7ezqXpVPb9PT3/DHY4uHM+4sYtwP36fAlUZfdVVc3PxLS5sms3Y8fOYcSCWCpPtj6Z5L7M7RkLUlrdtkGXRpgzfORw7f5JzsWq7D/J3x/Ia+uh71fJaayiKOoXntz/w2dSLhOY10aaVMVM9LTmhbB51kLsZNTRpBxBjPU0Zvnio/fdb98v4ptYNcvFjEAP7v6W7ibqIZcxX4WrKxvP4Zuj/qHxXR3mwdf6X/Lp4C5fzrY6RxaCb0rvHOLV9mQqxqTSbrf93QUUdiwzdnYOuY11DHqWPfVk1Yj/B0TkUD/aatg469UbMaoFffcw30/TkGgGes/hhylQm/vij2n9/YMyC3ey6kevoK6atr/+wYOos4fHecSzcdQkftb9KUBH/JBJUxAdn02WRFrSNscO+Ztia29wr0D2/Eqw9yyPxGDN+GMHPG3zxS21ynCDt5h46E/bivmQzm849JO+1Lu/10dNSwrPQY5w7fYxjXkOYTp3m2J0CipoMr77VbqhDn3GS2aO/YdiUvey/lfc8XL1Lb91HRTvtdZMduIbN0yYzbcFlnvSq+og221JB+lUfTq88QkSTepVWQ+jOI9F3O8vHT2bspkdkNxsG2pG3UpcZzGEVVKa9GFT+xFT9mMcX3Pjm38OZejSeBPU6bf1Z2suoDlvKhFFfMGN/MKGF2pL0qUpaI8lHfmXl5uN43a14vau3f0lbsGLub1uBxxsFlb/zDvqo9DZjzTnD/AkjmbDRh8tpbc8rcXYbLTHb2XXxCl4xWtNBrYmYmZrba1gzazoz153h8uNE4nd+yeQZHhwOe0qxqun3NGSRtOcTxn03mU3ecf+5I6DVkqzVPD6xhtUjxzNh7hniOwe2r62WgnAvdo0exScTzhJR1EqbtoE6CimJPMaPn8zmeHQZJV3/XV16fQZK7+zlyIqpTHY/R2xLP/q+Piru7ubIgu/5afIWrlX3v9UzYt5JHxWbEWNHNXmJsSSmFlLW2MWrW+ypI5G5mfKsJzxJyeZZeYsjaL2qMmrvaaSqIJMnT56SXqpTn/t2w/C+dR+V3kKe3tjPsq/H8Om2WJKruxzHVquugNLoE/yyNIT4Eh0G9RvNTdnkBq3m589/xO1cHLFVhhcqzn/FjKE1j0fbRjP5h8msOBZBbKO2UrWC10LqqfmsHDcZ1zX+xKny+PyGShWpF7ayz20Fa8LUsc5ie4Pv+4DeUR8VXbY69gVdwCsgnPsJj4l/FEvso0fEpeaRV9PpaPr6X0WlX09PUwIBU75h5YEQQp91SNMv8Y8iQUV8cPaGFBJ8Pfj0y+8Ydyqd1JrnVW9T0zMKA+cy6tvhzPWK5O4zdTIoTSP81nW8t7swxWUJC7ecITgugyKd7T/PXhmUFWN7DWXxQYSGBBEUPITpZghBSZVUt/1FZ3pDPfr0U8wepYLKkjMcj61+uY+FRY+ho4niuh4s1iGcgt86qGjryUjBjQ3smOnC9IWBpKsf6QgfumQiL19m86YwClRaNNsMNKb6cmHrUmbO24lXYhOtvb8/Y+P1goqh9CEPj8/gs8+/YHVwITnNWiWlj+66DJIOjmLMt7+w7pI6MReUU5lxS22fM+ycM5IZi9ax7lQED1MrHMOZvuqmxN/Tfq2TBhVTC9Yib9wn/sj0Lb74Zz7vm9Vv6yHbewHHAm5wPa+b/r5u+hqTuLp5EouXbGHf1VQVmOuofHQR/ys3eZhdTWOvBX1tOjGbPmHsmFlsD0gkW/s4jVaDthVy39OdRd/MYer6CCrUanFc1e96SpzPFly+Gc9n6x6SVl5M4dNEYq6c4Mzm3/hk+DzWn/DnZmrpEJt/WWgrjiPh9hX8QmIp6OzHaO2lOGwn++eP4ue5uwmt7adjqDdsFBn16w2ZysgJPcLqH1RQ2ZWgjrnPLx4YqpLICFzJlNNPyWowYDW3UpNyjUtrpjDK9QD+SVXUdRvRt1SQFx9JVMhV7ibGE5uUSkpsHEmx9wlOqqC+yzRQeTbS3fyU2yu+ZOLXS9npnUSBdpfKrv5jzCJ4rQszf17OskPRFPfoqEqLJCbiJPuWzFbhfQ4rToQRklBOfafREaTeiHYH0t5DXV4KyXdvERUVzoO0NBLjnpD66C73EtJ4XNz6chB4XW8dVLQ11ErGuT1cPBPAtay2l++8WC3Ye1Uwsdix2s101OSS8yiQIJ8dLPnya+av2s+hoCRSilocd1V+f6vdbMTc04PeqELeq2/lCPFRkqAiPryWDJ5c3cR3X32Pq08uWfUmVTHroTkvipsbh/HtFz+z5eoTMssrqUi5zr6da5gzcjhjpy1i4boDnPELJb66zzkeFmhuw1AWzp7pIxm1/ARHoiue36nQThbqxNln0NFUqJ0oo7mZpqPntYb6fcE7GvWrOeUk59a6MmPOIa6W6mk32zAV3iDgygVWeqfTpQJVa1UKYSfWs8FjE5svJlBpVtVObXkcXi+omCsTSDi7gM+HfcHm8HLydXZsqgJUl3mT83M+4/vvV3MoLIfM4gwyQraza910Rn71E5N+c2f1fh8u3sigUtVSHC3ThkT7wU4aVKyqgqiLx2fZZOa6H+JQZBEdZq3fSgURmxdz+cZDElWg7arOJOvaJjzmL2bbhXsDnd3/W7+llcbsMI5P/pIpbofwflRMwx93KbSVV0nsQQ9WjPuN6XtiaFRlss9mQp8Xgp/nHL78aQrjLpdRXp1Dergvx1fNU5XFbxg+TQXG7bs4G56iKrTvppGJvaeYmFMbWDNrHr/tCSO3W4WXIewKv5Og8obsbVQlXuXMnIl87uZDWHaD2v9NtOREcv/ALHZGt1DepENXeJ/Ic1tZ5rqCLcFFlLUasfZUU5IWxpk969gw/WtcN25j6/HL+J49zeWjG5i86hz3nv3+rB+L445K9JavmPT9Gvb5pVFuVfu/qY2ufH92z/yFsTO3qc/OQqevIefmYU5vnsHUCRP5afJCNhzyYs+VdAqauh2jQL6JflW2rbpMIq+eYp/7TJYvdGH+vjOcPneNoNM72LJjH9svPqRSHUD/8hrXq7x1UNGiVzkPtm/n0rGrRBa3023so6/PqvKJiV69OleUF1OQlElJZx8Gq4GGZw+I0gZjcfuFYV9NVkFlA9vO3CQooQKtJDgOzWrd1uerEHYvmrsJBdTp+3iNAeyE+GhIUBEfnr6IvDtHcPt+JBMPPyK+qBl9/VPSru/G7YvhDPu3J+djSqnRLsTbuzC0xHNu4o9sOhZBVPFQhyt+X9SJpreGpEMuLJy3hq2XYshrM2AwqKm7i4b8SIKO7mKjhxfBpRa6h1L7flfDE+tzSfDzxH3GXOadfUJuXTvF9/ZywfsgOyLz6arP5MGpFSxZ6ckO/2QKXsohrxdUbM1PyQzaxA8jRrDUJ4OU8k7ayhOJ817NhH99zucu5/FPrkZrpdTfXYsh+SDTflnH/uBM8h31zn6V8/qx9ZkdAy8YjX83mbFYtSuJ2ns1ThxU1G/rtxkpC9usKh9LWL47iJiKRrobIjk6+ShXgtJ4WqH2heB9LP5pHJu8k0ir7n65zX6/FXODFmZ28etXc9hxLZNnDX/eN7SVoeNpwHa2z3ZlmvsNsvQG2tvKSPRdz/qp/2bkxDkcfmKhWetA1K+nIsGXCx6TmXg6j2JVQXXUdVTYtttUxWfQ9f7CZDJh6nvhiq72//Y+erKucMJjFYvcT+GXoXNs37chQeXNmRuyyL3qwZhvZ7A1MJknVaXk3gvk/LxVXMlRx4K8OCK81rDZfQ2bAnNoMtkcHcLNZQ94fPcCa/1uccN9GJPc9nEisoCmrlqaM73x+GIEB9W+m9WqbVMbpo5Kss+OZc4vbmw+G82Tlg7aap4Sf9iFqaO/YMzaE5x54hjO0TF1PD7Ovs07WXboHiWqLv88RGj9zdSx1TxIOXtpMmG2aMfhdnoeH+JoWATHDqxj79LpjN0YSnabhV5dIrf3u7Np0RauFPa/ug/ZX3nroKIdl3rIDVzL4V0qcPjc50lhNXW1DTRWl5KfHEHQiWOscTtHdF0v7Y5bSuq31meRd2Ul308/xrU09b0vhpD6BwTuWcSPn3zD1z+u4lJ2Jw2OvmhC/G+QoCI+PJsZfW0OT3w3stTFhcWLl7DSYxmL5k5l/Odf8dkcb0Kz6h3DqNLbQFf2ZZaMms+Ba6lkOXqAOhNVqVbL09vwlGi/fWxxX8Ks31aweo0Hq1dvYdfpIK4/ekZBTTt6FVKGdFv+XQUV7Xe2lFCUcBPfYzvwWOXOYpefmPrreMa7rmHtzsP4hMWTnF9DQ6dxkKtyrxdU+q29dFSk8vDYQubMnssCt6WscV+Em+tE/v3ZMD7fcofI/DZHRdjYUkjhFRfGLTyNX0L5807k6oRuV59REevL9YvHOHb076Zr3M+q/tPdBGcOKloIs2PpbqQ8JYqQs/vZ5rGIZUumMeaHiUybuQCPnQc5GXiPhJw66tp6HSMjvVRq9AVkhJxn99LtHI4qpLTFoCpff943tHdYMdWl8fjKbta6TmbqstUsX+nB0tljmTByFD9P28uNOq0JlnqtuYzM6yfYNWUpOx+109Btff6dxmZ0hdH4qvV84qX1/t/T8XOXOR1XS4tj5LgBfaqMND/k0tqN7DsWTLjar7tM6rMlqLyRdxFUtEErenWV5D26qvb/jWxZu5h502cwbsQYJi1xx2PXeS7fiie9qJZWvQmrNjCG2kx2Qwd6tZ8+S7/Fye+HsWh/OBF5HVj1FdQneOEy/Cs2+mjPW3neqMpuVWWxMZGb+9Vx/bd5zHJTx8IVy3CfqY3y+G/m7b3C7TLHVSg1Gcj1V2VupyeeN/Lo1L7PUTSstBTEEXt18LL235MPgbefUNStwkp7LQ2NGUQcXMe22eo7Q6ocz7Oy19/niudi5s/fwJk0bZ8aQvl766Cifacdc2clBfFB+O9bxbLpvzBx/Dh+nbGAZVu8OHczicyKTnWusA8ENovjLleUp9pG28OJK217+bkz7amEH1vFtM8/Zfh3v7BKLXNR6xs3nBPCaUlQER+c3dKHsbOdlqo8MhPiSEp8TPztC5zbMpOvvviGcYfiSazQO64im1tVJSzUg/ETt3E+upBqQ596v1mdRNVhfwjnmvdC+yGqYt1Wo53Mk4mLTyI5JZnk5DSeFlRRozNgfOmS+Bt4V0FFoyorpq5GaooySI314/DCzexYcwr/uFRSMnMpq++gS/3YwZtGvEZQsWvP4jBj6GhFV5pB8mO1LR8n8jDYCy+Pn/j08xEs8MsivV5ruN5Le0UckWu/Zeq2W9x51kKv2rBWs/Y8Eyv6+mLKCp/xLOfvplJqdd0Y/ghWzhxUNNrKVWFF30pjWR6pD65zffdY5u46x9mb0aQ+VcG2qkVVsNTm+nP20GhlTa9Cxb1rBFz0JyA8m9I2E41FOdQ0Njue7fHH6ywm9R06WirzyEmJJSYxmcQYf46vmMnkH2YwyeMGuVrXAfUdtobH3Dm5h9lTPLlS3kebwYTNpspBXy+mjjqK1XrOfWm9vzDlF5HX0IPx92d5mNvpLE/m1umDXPC9z6OsOqpr62ksfkZ5dz9DaQX5OwkqQ+O4O9ZZT1VhBk/CTnF43xZ+3uhDZEIiKVnFlKv9X//ihlH7tL2rnJrH55g1fCxbAjJIa+xTYeQpWVdX8MPXszgUnkthh3qf2m+1EQyN+nbqC9PJSH6sjoePiInw5vDkYYweMYfNF2PI0g4d/WZVwAuJ3DiTLZu9OJvQhEWVOaO5H5vdjrG9gfrSQcrZS1MRpZXNdKrwod2FsdY/xH/nGhYu3MX5HHW8s/bTmXGWI2sXMtfdi9tVv4829obeUWd6+vvobVf7Qp465sbc58F9NT1KICmzkJK6dnrUueKPu8O2Ziof+3F6yo+4Xcomu64bc586dvw5h1jUui7KJC7oLN573fAIVUGo5S06gAnhZCSoiA/K2JBFRvRNfAPDCHxcQ5tJVYbs3TQmB+K7bjpf/LKY/TFVVHRoR+I+uqqSiDs8gR8WniX4SQ6FhYXkPymgWR2Hh9TO+GNkasdUFcf58Byya7pe7qw/FNooRo1RnNkTwBnfdGpfq9L4V0FF2xg2VTFVFZ5IPy4HhRGUo3NcPdeGnS57eJETi8cyfPJaLqc2OB40ibVZfV4QR34ZhtvpRBKy8igrKSZl4G7L0Dfv+woqZtpKU8i6e4W4OhVb3smGsNJd/4ykA+PZdyebjIbfk8Yg1Dbrt7RQGHkRb68TnLlyj4T8WhobSom/5E+c2i/KtdZfNiP9erUeQ68T5BPGvYRCx90m7U6O1k/g5Mo5uLhsZnNQoWMoVG1dd2X747NrNePnXyBB30NhymNKymv58zM934itG11RIo98DrNjz3lC4vLJK68iPyGOaJ9gkjr6n49ANkStmf4kpj8ho+5NezJ8nHRZASSlJZNe++6WtzMrkLDAg6y4VYlhsLt2f2JpziYveANfD3Pj2P0SSrr0NGbfJnjrNMYuvUB4TiM6k562iqckBvjgeymAxKJmWlR5tPXUUv/Emw0/fcHUBSe5HFOGTit0VhW6mu9wxHUm63b6E5xWTWtxItGFXSooD71wGLJ9OLLGndkrz3O3yYrF0kym7xq2rlnP+nOPKB1qH5W+Lgz1OYQfj6Ogst3RR+S96y7g6a1DLP5+EjujGsjLzSC/qJindS/smCr8dJQlk3RuBQfjmyjreJsrY0I4Fwkq4oNqSTjM4RU/8fmY+Uw5lkpFVy/61qfEXNjO2ulzmLk9jIzmXnocFWcT7WWxRO0Yw0j3c1yJiuBuSDg3/OOpVPU5Z+hL/0GoCma/rQ+jqR/rawWKv9dvNWPOOs3OS7c4qYLhX1SPHUxdDTTVPCE+7BSbPhvGuC2BBMZkU92oG3iat7YxTJSEbWGP63CGT1yAy40y6rp66K5+RPiJDSycvBDXk8nk63pRi6Lq/XVUJfux/ccvWXk6mvCIEMLvROH9qN7R7XQom9dmUWWnuZDysgf4uM9nwbTlLL4YT3FJBU3dlre6iu9g7cNuNtGnPued3NHr70FXmsS1ebO5llpN+StvENixGltpL7rJ8YVTcF+9lV2nA7gW6M/VgBNsm72XwIgsyrR6rEmHvTyADZNGM3LEfDwO3SG7y4JVX0vyhaWs+m0hS/ffJNrRCey55tTTXNyxmKmLLhJblkbYufM8SMyhbEg3LGz0NmcS7+fJ+mmTWXLQnwuXr6rfepGTnkfYveISiT1/9RyV12A1YVPbwvbiHaf/VQPL+9IdtiEzUxV9grBLnpzPNP7NCIo2OksfEX1oCl98uZwDNxNJevaExzfPcHj1anZHlFHepn6fpYq8OydY/8W/+XzEBA5E5lGoM9BZHEuM1yJ+/HkGGwNSSK8b6Etl0UP5dbYsmMvqXRcJuBtLQshJjic0UPP8oPKGtGXoozJyK9sWuuKy7DQhz0ooy73LFc81HPAK4GaWznGnfqi7rvacmL5edQz4UAVPl01K0F6mjnHhYMQzHoT6cOPuA26/2IGwr53qjLv4bV9LSLF+6BcYhHBCElTEB1X9YBP7Fo/m55nbOBTXhK5TR+HtvXguXcAM9wvcqbbQ+6eOjqbWYopDNzJ9zmKWrNzJmRsJpDZK+9u30++o0Nfc8eDg9dtcy3nF47j/pDbpHJf3zcZl+q+MHP4FX4yazK8uS/G8GE58k/YKbZt1knt1I9tn/cT43/YQUNBNa1ctqf4b2OQ2j5lbr5OqvuqP0Z7sPXSUxxG1eTS/LVvNsp2XufYwn8a/S01/wdBSQpb/XDxWzGD86JF8+80ovhs/l3luG7ic3kS1s7UUsjZQ//QuBz4/QnRBC82vrLxb0Ndn8mjP10wa/QXDh6sw+Mek/j3uKJeiS2jW6k+9Ldhzz/HbZLWfzd/L8dt5NHXUoks5xprJ41i0zY/gpzpHGPydtTaB6HN7+G38UtZs3cy5mEJK/mhH9qYMFN/dz6FFX73wO9X0w3xc1kZQrPZxR1gV/zf6G3gaeIbrh89yr15t/7+qd6swXZt2HW+3z/jmlzH86ubBymUb2bPrNN6xJY7RAx2HbEMxT0MOs+SrkXw19yK3smtpasom7dpelv8yjpmHYnlS3fV8VESNXaXq3gIi9ixk27K5rNh9hkMheTSqA8SQLkL1a1cPdCSemI/7jG8YOX02c1duY9viNRz0fUBiaet/vvtjYWmiMjmAk/N+ZOnadaw9GUlkVuMLIb8fe0s6T8L9WLQuihK96W8vPAnxMZGgIj4oS9szkoJ2s23hZCapE57HSnfW7vTibMhj0ivaXupwrj1p3Kz1qaitp76hmbYuA73/mFsp74uqWJh15FxaRdCDBJIb/76ZgMXQRntLLTU11VSWl1NeWU11TT3N7Xp6HDVebZvYMNUkEuO9ldVzJzNt5VpWuK9k877z+EelU9DQqUKo2qa/b75+rT9KD/qmSurqVYW9ud3xdH3HQ+CGyPFkelUpb2yooaqykooKNVXVUlfX6HhS+e/dJ5xGTykV6TdYoioYufX6lzvK/kEbBa2XnpZyqivLKSsr+9Ok/l3VSnu3+XmF0W6h39hImv821i1ZiIvrUjzWrcd93SHOhiaRXtZCp3Ggs/yAfksP3W0t1FXV09jURFuPCfOQL9/bMXe30Fr34u9UU0UdNY16zGof/6MciA/PWECMTwiBJx9Spvbfv9wW5kryIrzY8fMY3C6m8ji/lob6Jlqa1TGhR+sv+LzTvRY8OspTiT27lrkTp7F0xVJWrdrItt0X8LufS0VTN73awxx//y61/2vPV9G31NFUrz6zpY3WLm3/H/i8N2U3qrCUSuByF9as3s+xu0XUNjSpz26ktaMbg9n68ZW5fnXMMnSgq62kvrGRRp0evbHvhaZrOoruXefG8QtczdbTrQ6gH1seE+KvSFARH5bNQEddAbkpD4mOjSc+No7HGYWUqErsWzRLFm9EG3LWSFtRGtWNLbS9y8tvZnVSrcol8/FDHsTHE6u2b0p2GVUtPW/xXJT/YZYu9LpKknIa6VIVkHdTwdAqejZ6anPJfvKYmEexxCc8Ji4pj9LmbsfD5MQ/nLWD+tIayouaHYNz/OWuqUsnwXcnM36az4HHndTqX11+rMZO2quySYmJJiH+EXHxyaQ+LaWq3Yz9facEbYS5ymvsmDuHVXuuEaElsH8EI+3VZVTkFlOr9b+R3Vv8j5GgIoQQQoiX2DsqKIr348SO5YyftIjtfnGkVHXR9U4Gknh3+k2d9FQmExuwnQWz5uK28SR+cQMVd7lAIsRHTYKKEEIIIV5irY4j8uoJtu7YqqYdavIiLKueurcaI/3ds2sPn0wLZM8e7Tdqv/UAp67cJU33N/1vhBBOT4KKEEIIIYQQwulIUBFCCCGEEEI4HQkqQgghhBBCCKcjQUUIIYQQQgjhdCSoCCGEEEIIIZyOBBUhhBBCCCGE05GgIoQQQgghhHA6ElSEEEIIIYQQTkeCihBCCCGEEMLpSFARQgghhBBCOB0JKkIIIYQQQginI0FFCCGEEEII4XQkqAghhBBCCCGcjgQVIYQQQgghhNORoCKEEEIIIYRwOhJUhBBCCCGEEE5HgooQQgghhBDC6UhQEUIIIYQQQjgdCSpCCCGEEEIIpyNBRQghhBBCCOF0JKgIIYQQQgghnI4EFSGEEEIIIYTTkaAihBBCCCGEcDoSVIQQQgghhBBOR4KKEEIIIYQQwulIUBFCCCGEEEI4HQkqQgghhBBCCKcjQUUIIYQQQgjhdCSoCCGEEEIIIZyOBBUhhBBCCCGE05GgIoQQQgghhHAy8P8B7D7jFulqt0UAAAAASUVORK5CYII=)"
      ]
    },
    {
      "cell_type": "code",
      "metadata": {
        "id": "5c6rf-q-v0F3"
      },
      "source": [
        "import pandas"
      ],
      "execution_count": 46,
      "outputs": []
    },
    {
      "cell_type": "code",
      "metadata": {
        "colab": {
          "base_uri": "https://localhost:8080/",
          "height": 283
        },
        "id": "D4QTpK10vEu0",
        "outputId": "42574304-3aa9-48f8-e3ef-19dcc255470d"
      },
      "source": [
        "from pandas.plotting import autocorrelation_plot\n",
        "autocorrelation_plot(df['Temperature'])\n",
        "plt.show()"
      ],
      "execution_count": 47,
      "outputs": [
        {
          "output_type": "display_data",
          "data": {
            "image/png": "[encoded data removed]",
            "text/plain": [
              "<Figure size 432x288 with 1 Axes>"
            ]
          },
          "metadata": {
            "needs_background": "light"
          }
        }
      ]
    },
    {
      "cell_type": "markdown",
      "metadata": {
        "id": "QSju1C27wCst"
      },
      "source": [
        "###**Final Thoughts on Autocorrelation and Partial Autocorrelation**"
      ]
    },
    {
      "cell_type": "markdown",
      "metadata": {
        "id": "dWGonP8xwJ0n"
      },
      "source": [
        "\n",
        "\n",
        "*   Identification of an AR model is often best done with the PACF.\n",
        "*   For an AR model, the theoretical PACF “shuts off” past the order of the model. The phrase “shuts off” means that in theory the partial autocorrelations are equal to 0 beyond that point. Put another way, the number of non-zero partial autocorrelations gives the order of the AR model. By the “order of the model” we mean the most extreme lag of x that is used as a predictor.\n",
        "*   Identification of an MA model is often best done with the ACF rather than the PACF.\n",
        "\n",
        "*   For an MA model, the theoretical PACF does not shut off, but instead tapers toward 0 in some manner. A clearer pattern for an MA model is in the ACF. The ACF will have non-zero autocorrelations only at lags involved in the model.\n",
        "p,d,q p AR model lags d differencing q MA lags\n",
        "\n"
      ]
    },
    {
      "cell_type": "code",
      "metadata": {
        "id": "gzy8hyi6yJsU"
      },
      "source": [
        "import statsmodels as sm"
      ],
      "execution_count": 48,
      "outputs": []
    },
    {
      "cell_type": "code",
      "metadata": {
        "id": "ZYm-ZrEo9cTy"
      },
      "source": [
        "import statsmodels.api as sm"
      ],
      "execution_count": 49,
      "outputs": []
    },
    {
      "cell_type": "code",
      "metadata": {
        "id": "fSjalKsSv-qv"
      },
      "source": [
        "from statsmodels.graphics.tsaplots import plot_acf,plot_pacf"
      ],
      "execution_count": 50,
      "outputs": []
    },
    {
      "cell_type": "code",
      "metadata": {
        "colab": {
          "base_uri": "https://localhost:8080/",
          "height": 499
        },
        "id": "rUlzM5Trwiya",
        "outputId": "bd6f639d-2a8c-48fd-c3f9-467b2c29bfca"
      },
      "source": [
        "fig = plt.figure(figsize=(12,8))\n",
        "ax1 = fig.add_subplot(211)\n",
        "fig = sm.graphics.tsa.plot_acf(df['Seasonal First Difference'].iloc[13:],lags=40,ax=ax1)\n",
        "ax2 = fig.add_subplot(212)\n",
        "fig = sm.graphics.tsa.plot_pacf(df['Seasonal First Difference'].iloc[13:],lags=40,ax=ax2)"
      ],
      "execution_count": 51,
      "outputs": [
        {
          "output_type": "display_data",
          "data": {
            "image/png": "[encoded data removed]",
            "text/plain": [
              "<Figure size 864x576 with 2 Axes>"
            ]
          },
          "metadata": {
            "needs_background": "light"
          }
        }
      ]
    },
    {
      "cell_type": "code",
      "metadata": {
        "id": "GnNhZHUbygAj"
      },
      "source": [
        "# For non-seasonal data\n",
        "#p=1, d=1, q=0 or 1\n",
        "from statsmodels.tsa.arima_model import ARIMA"
      ],
      "execution_count": 52,
      "outputs": []
    },
    {
      "cell_type": "markdown",
      "metadata": {
        "id": "Kp9GIZ4QCyYL"
      },
      "source": [
        "#**Train the model**"
      ]
    },
    {
      "cell_type": "code",
      "metadata": {
        "colab": {
          "base_uri": "https://localhost:8080/"
        },
        "id": "KyB2A-IPyirn",
        "outputId": "690acf29-461b-4299-aa58-b7161536d0c9"
      },
      "source": [
        "model=ARIMA(df['Temperature'],order=(2,1,2))\n",
        "model_fit=model.fit()"
      ],
      "execution_count": 53,
      "outputs": [
        {
          "output_type": "stream",
          "name": "stderr",
          "text": [
            "/usr/local/lib/python3.7/dist-packages/statsmodels/tsa/base/tsa_model.py:219: ValueWarning: A date index has been provided, but it has no associated frequency information and so will be ignored when e.g. forecasting.\n",
            "  ' ignored when e.g. forecasting.', ValueWarning)\n",
            "/usr/local/lib/python3.7/dist-packages/statsmodels/tsa/base/tsa_model.py:219: ValueWarning: A date index has been provided, but it has no associated frequency information and so will be ignored when e.g. forecasting.\n",
            "  ' ignored when e.g. forecasting.', ValueWarning)\n"
          ]
        }
      ]
    },
    {
      "cell_type": "code",
      "metadata": {
        "colab": {
          "base_uri": "https://localhost:8080/",
          "height": 406
        },
        "id": "7jnYmOHwypLm",
        "outputId": "685dfb98-64d3-4b79-a765-de54997822de"
      },
      "source": [
        "model_fit.summary()"
      ],
      "execution_count": 54,
      "outputs": [
        {
          "output_type": "execute_result",
          "data": {
            "text/html": [
              "<table class=\"simpletable\">\n",
              "<caption>ARIMA Model Results</caption>\n",
              "<tr>\n",
              "  <th>Dep. Variable:</th>   <td>D.Temperature</td>  <th>  No. Observations:  </th>    <td>124</td>  \n",
              "</tr>\n",
              "<tr>\n",
              "  <th>Model:</th>          <td>ARIMA(2, 1, 2)</td>  <th>  Log Likelihood     </th> <td>-191.516</td>\n",
              "</tr>\n",
              "<tr>\n",
              "  <th>Method:</th>             <td>css-mle</td>     <th>  S.D. of innovations</th>   <td>1.122</td> \n",
              "</tr>\n",
              "<tr>\n",
              "  <th>Date:</th>          <td>Thu, 18 Nov 2021</td> <th>  AIC                </th>  <td>395.032</td>\n",
              "</tr>\n",
              "<tr>\n",
              "  <th>Time:</th>              <td>16:43:28</td>     <th>  BIC                </th>  <td>411.954</td>\n",
              "</tr>\n",
              "<tr>\n",
              "  <th>Sample:</th>                <td>1</td>        <th>  HQIC               </th>  <td>401.906</td>\n",
              "</tr>\n",
              "<tr>\n",
              "  <th></th>                       <td> </td>        <th>                     </th>     <td> </td>   \n",
              "</tr>\n",
              "</table>\n",
              "<table class=\"simpletable\">\n",
              "<tr>\n",
              "           <td></td>              <th>coef</th>     <th>std err</th>      <th>z</th>      <th>P>|z|</th>  <th>[0.025</th>    <th>0.975]</th>  \n",
              "</tr>\n",
              "<tr>\n",
              "  <th>const</th>               <td>    0.0188</td> <td>    0.101</td> <td>    0.186</td> <td> 0.853</td> <td>   -0.180</td> <td>    0.217</td>\n",
              "</tr>\n",
              "<tr>\n",
              "  <th>ar.L1.D.Temperature</th> <td>    0.9722</td> <td>    0.022</td> <td>   43.821</td> <td> 0.000</td> <td>    0.929</td> <td>    1.016</td>\n",
              "</tr>\n",
              "<tr>\n",
              "  <th>ar.L2.D.Temperature</th> <td>   -0.9832</td> <td>    0.016</td> <td>  -62.093</td> <td> 0.000</td> <td>   -1.014</td> <td>   -0.952</td>\n",
              "</tr>\n",
              "<tr>\n",
              "  <th>ma.L1.D.Temperature</th> <td>   -0.8314</td> <td>    0.057</td> <td>  -14.590</td> <td> 0.000</td> <td>   -0.943</td> <td>   -0.720</td>\n",
              "</tr>\n",
              "<tr>\n",
              "  <th>ma.L2.D.Temperature</th> <td>    0.8460</td> <td>    0.080</td> <td>   10.592</td> <td> 0.000</td> <td>    0.689</td> <td>    1.003</td>\n",
              "</tr>\n",
              "</table>\n",
              "<table class=\"simpletable\">\n",
              "<caption>Roots</caption>\n",
              "<tr>\n",
              "    <td></td>   <th>            Real</th>  <th>         Imaginary</th> <th>         Modulus</th>  <th>        Frequency</th>\n",
              "</tr>\n",
              "<tr>\n",
              "  <th>AR.1</th> <td>           0.4944</td> <td>          -0.8790j</td> <td>           1.0085</td> <td>          -0.1685</td>\n",
              "</tr>\n",
              "<tr>\n",
              "  <th>AR.2</th> <td>           0.4944</td> <td>          +0.8790j</td> <td>           1.0085</td> <td>           0.1685</td>\n",
              "</tr>\n",
              "<tr>\n",
              "  <th>MA.1</th> <td>           0.4913</td> <td>          -0.9698j</td> <td>           1.0872</td> <td>          -0.1754</td>\n",
              "</tr>\n",
              "<tr>\n",
              "  <th>MA.2</th> <td>           0.4913</td> <td>          +0.9698j</td> <td>           1.0872</td> <td>           0.1754</td>\n",
              "</tr>\n",
              "</table>"
            ],
            "text/plain": [
              "<class 'statsmodels.iolib.summary.Summary'>\n",
              "\"\"\"\n",
              "                             ARIMA Model Results                              \n",
              "==============================================================================\n",
              "Dep. Variable:          D.Temperature   No. Observations:                  124\n",
              "Model:                 ARIMA(2, 1, 2)   Log Likelihood                -191.516\n",
              "Method:                       css-mle   S.D. of innovations              1.122\n",
              "Date:                Thu, 18 Nov 2021   AIC                            395.032\n",
              "Time:                        16:43:28   BIC                            411.954\n",
              "Sample:                             1   HQIC                           401.906\n",
              "                                                                              \n",
              "=======================================================================================\n",
              "                          coef    std err          z      P>|z|      [0.025      0.975]\n",
              "---------------------------------------------------------------------------------------\n",
              "const                   0.0188      0.101      0.186      0.853      -0.180       0.217\n",
              "ar.L1.D.Temperature     0.9722      0.022     43.821      0.000       0.929       1.016\n",
              "ar.L2.D.Temperature    -0.9832      0.016    -62.093      0.000      -1.014      -0.952\n",
              "ma.L1.D.Temperature    -0.8314      0.057    -14.590      0.000      -0.943      -0.720\n",
              "ma.L2.D.Temperature     0.8460      0.080     10.592      0.000       0.689       1.003\n",
              "                                    Roots                                    \n",
              "=============================================================================\n",
              "                  Real          Imaginary           Modulus         Frequency\n",
              "-----------------------------------------------------------------------------\n",
              "AR.1            0.4944           -0.8790j            1.0085           -0.1685\n",
              "AR.2            0.4944           +0.8790j            1.0085            0.1685\n",
              "MA.1            0.4913           -0.9698j            1.0872           -0.1754\n",
              "MA.2            0.4913           +0.9698j            1.0872            0.1754\n",
              "-----------------------------------------------------------------------------\n",
              "\"\"\""
            ]
          },
          "metadata": {},
          "execution_count": 54
        }
      ]
    },
    {
      "cell_type": "code",
      "metadata": {
        "id": "2iYSGLZgyulK"
      },
      "source": [
        "df['forecast']=model_fit.predict(start=90,end=103,dynamic=True)"
      ],
      "execution_count": 77,
      "outputs": []
    },
    {
      "cell_type": "code",
      "metadata": {
        "id": "BOksSxwZy0Pf"
      },
      "source": [
        "import statsmodels.api as sm"
      ],
      "execution_count": 78,
      "outputs": []
    },
    {
      "cell_type": "code",
      "metadata": {
        "colab": {
          "base_uri": "https://localhost:8080/"
        },
        "id": "TFJLkqDJy8iK",
        "outputId": "8485f879-e7da-49bb-de69-f35c90bc86a4"
      },
      "source": [
        "model=sm.tsa.statespace.SARIMAX(df['Temperature'],order=(1, 1, 1),seasonal_order=(1,1,1,12))\n",
        "results=model.fit()"
      ],
      "execution_count": 79,
      "outputs": [
        {
          "output_type": "stream",
          "name": "stderr",
          "text": [
            "/usr/local/lib/python3.7/dist-packages/statsmodels/tsa/base/tsa_model.py:219: ValueWarning: A date index has been provided, but it has no associated frequency information and so will be ignored when e.g. forecasting.\n",
            "  ' ignored when e.g. forecasting.', ValueWarning)\n"
          ]
        }
      ]
    },
    {
      "cell_type": "code",
      "metadata": {
        "id": "x7mvG-ahzBTC"
      },
      "source": [
        "from pandas.tseries.offsets import DateOffset\n",
        "future_dates=[df.index[-1]+ DateOffset(months=x)for x in range(0,24)]"
      ],
      "execution_count": 80,
      "outputs": []
    },
    {
      "cell_type": "code",
      "metadata": {
        "id": "l4krdz2mzCEw"
      },
      "source": [
        "future_datest_df=pd.DataFrame(index=future_dates[1:],columns=df.columns)"
      ],
      "execution_count": 81,
      "outputs": []
    },
    {
      "cell_type": "code",
      "metadata": {
        "colab": {
          "base_uri": "https://localhost:8080/",
          "height": 203
        },
        "id": "aeY5uKOHzV3c",
        "outputId": "8e339d13-2eab-4d64-aa2e-2aede81a2bbb"
      },
      "source": [
        "future_datest_df.tail()"
      ],
      "execution_count": 82,
      "outputs": [
        {
          "output_type": "execute_result",
          "data": {
            "text/html": [
              "<div>\n",
              "<style scoped>\n",
              "    .dataframe tbody tr th:only-of-type {\n",
              "        vertical-align: middle;\n",
              "    }\n",
              "\n",
              "    .dataframe tbody tr th {\n",
              "        vertical-align: top;\n",
              "    }\n",
              "\n",
              "    .dataframe thead th {\n",
              "        text-align: right;\n",
              "    }\n",
              "</style>\n",
              "<table border=\"1\" class=\"dataframe\">\n",
              "  <thead>\n",
              "    <tr style=\"text-align: right;\">\n",
              "      <th></th>\n",
              "      <th>Temperature</th>\n",
              "      <th>Temperature First Difference</th>\n",
              "      <th>Seasonal First Difference</th>\n",
              "      <th>forecast</th>\n",
              "    </tr>\n",
              "  </thead>\n",
              "  <tbody>\n",
              "    <tr>\n",
              "      <th>2021-02-01</th>\n",
              "      <td>NaN</td>\n",
              "      <td>NaN</td>\n",
              "      <td>NaN</td>\n",
              "      <td>NaN</td>\n",
              "    </tr>\n",
              "    <tr>\n",
              "      <th>2021-03-01</th>\n",
              "      <td>NaN</td>\n",
              "      <td>NaN</td>\n",
              "      <td>NaN</td>\n",
              "      <td>NaN</td>\n",
              "    </tr>\n",
              "    <tr>\n",
              "      <th>2021-04-01</th>\n",
              "      <td>NaN</td>\n",
              "      <td>NaN</td>\n",
              "      <td>NaN</td>\n",
              "      <td>NaN</td>\n",
              "    </tr>\n",
              "    <tr>\n",
              "      <th>2021-05-01</th>\n",
              "      <td>NaN</td>\n",
              "      <td>NaN</td>\n",
              "      <td>NaN</td>\n",
              "      <td>NaN</td>\n",
              "    </tr>\n",
              "    <tr>\n",
              "      <th>2021-06-01</th>\n",
              "      <td>NaN</td>\n",
              "      <td>NaN</td>\n",
              "      <td>NaN</td>\n",
              "      <td>NaN</td>\n",
              "    </tr>\n",
              "  </tbody>\n",
              "</table>\n",
              "</div>"
            ],
            "text/plain": [
              "           Temperature  ... forecast\n",
              "2021-02-01         NaN  ...      NaN\n",
              "2021-03-01         NaN  ...      NaN\n",
              "2021-04-01         NaN  ...      NaN\n",
              "2021-05-01         NaN  ...      NaN\n",
              "2021-06-01         NaN  ...      NaN\n",
              "\n",
              "[5 rows x 4 columns]"
            ]
          },
          "metadata": {},
          "execution_count": 82
        }
      ]
    },
    {
      "cell_type": "markdown",
      "metadata": {
        "id": "9UPbUU8SDGBz"
      },
      "source": [
        "#**Test the model**"
      ]
    },
    {
      "cell_type": "code",
      "metadata": {
        "id": "Zl5xldKAzYFH"
      },
      "source": [
        "future_df=pd.concat([df,future_datest_df])"
      ],
      "execution_count": 83,
      "outputs": []
    },
    {
      "cell_type": "code",
      "metadata": {
        "colab": {
          "base_uri": "https://localhost:8080/",
          "height": 468
        },
        "id": "PklCigoNzaMV",
        "outputId": "bb8839bf-03cf-475d-b31b-9f8f4b47b9b9"
      },
      "source": [
        "future_df['forecast'] = results.predict(start = 104, end = 120, dynamic= True)  \n",
        "future_df[['Temperature', 'forecast']].plot(figsize=(12, 8)) "
      ],
      "execution_count": 84,
      "outputs": [
        {
          "output_type": "execute_result",
          "data": {
            "text/plain": [
              "<matplotlib.axes._subplots.AxesSubplot at 0x7f32559bb1d0>"
            ]
          },
          "metadata": {},
          "execution_count": 84
        },
        {
          "output_type": "display_data",
          "data": {
            "image/png": "[encoded data removed]",
            "text/plain": [
              "<Figure size 864x576 with 1 Axes>"
            ]
          },
          "metadata": {
            "needs_background": "light"
          }
        }
      ]
    },
    {
      "cell_type": "code",
      "metadata": {
        "id": "HEiEG_qT5Gaw"
      },
      "source": [
        "from pandas.tseries.offsets import DateOffset\n",
        "future_dates=[df.index[-1]+ DateOffset(months=x)for x in range(0,24)]"
      ],
      "execution_count": 85,
      "outputs": []
    },
    {
      "cell_type": "code",
      "metadata": {
        "id": "obYOmyuB74Pw"
      },
      "source": [
        "future_datest_df=pd.DataFrame(index=future_dates[1:],columns=df.columns)"
      ],
      "execution_count": 86,
      "outputs": []
    },
    {
      "cell_type": "code",
      "metadata": {
        "id": "lnl_Qzrq7-Vj"
      },
      "source": [
        "future_df=pd.concat([df,future_datest_df])"
      ],
      "execution_count": 87,
      "outputs": []
    },
    {
      "cell_type": "code",
      "metadata": {
        "colab": {
          "base_uri": "https://localhost:8080/",
          "height": 203
        },
        "id": "j6ZPiZlt8COg",
        "outputId": "24205e97-b5e2-4b5e-d50c-e608faa51394"
      },
      "source": [
        "future_datest_df.tail()"
      ],
      "execution_count": 88,
      "outputs": [
        {
          "output_type": "execute_result",
          "data": {
            "text/html": [
              "<div>\n",
              "<style scoped>\n",
              "    .dataframe tbody tr th:only-of-type {\n",
              "        vertical-align: middle;\n",
              "    }\n",
              "\n",
              "    .dataframe tbody tr th {\n",
              "        vertical-align: top;\n",
              "    }\n",
              "\n",
              "    .dataframe thead th {\n",
              "        text-align: right;\n",
              "    }\n",
              "</style>\n",
              "<table border=\"1\" class=\"dataframe\">\n",
              "  <thead>\n",
              "    <tr style=\"text-align: right;\">\n",
              "      <th></th>\n",
              "      <th>Temperature</th>\n",
              "      <th>Temperature First Difference</th>\n",
              "      <th>Seasonal First Difference</th>\n",
              "      <th>forecast</th>\n",
              "    </tr>\n",
              "  </thead>\n",
              "  <tbody>\n",
              "    <tr>\n",
              "      <th>2021-02-01</th>\n",
              "      <td>NaN</td>\n",
              "      <td>NaN</td>\n",
              "      <td>NaN</td>\n",
              "      <td>NaN</td>\n",
              "    </tr>\n",
              "    <tr>\n",
              "      <th>2021-03-01</th>\n",
              "      <td>NaN</td>\n",
              "      <td>NaN</td>\n",
              "      <td>NaN</td>\n",
              "      <td>NaN</td>\n",
              "    </tr>\n",
              "    <tr>\n",
              "      <th>2021-04-01</th>\n",
              "      <td>NaN</td>\n",
              "      <td>NaN</td>\n",
              "      <td>NaN</td>\n",
              "      <td>NaN</td>\n",
              "    </tr>\n",
              "    <tr>\n",
              "      <th>2021-05-01</th>\n",
              "      <td>NaN</td>\n",
              "      <td>NaN</td>\n",
              "      <td>NaN</td>\n",
              "      <td>NaN</td>\n",
              "    </tr>\n",
              "    <tr>\n",
              "      <th>2021-06-01</th>\n",
              "      <td>NaN</td>\n",
              "      <td>NaN</td>\n",
              "      <td>NaN</td>\n",
              "      <td>NaN</td>\n",
              "    </tr>\n",
              "  </tbody>\n",
              "</table>\n",
              "</div>"
            ],
            "text/plain": [
              "           Temperature  ... forecast\n",
              "2021-02-01         NaN  ...      NaN\n",
              "2021-03-01         NaN  ...      NaN\n",
              "2021-04-01         NaN  ...      NaN\n",
              "2021-05-01         NaN  ...      NaN\n",
              "2021-06-01         NaN  ...      NaN\n",
              "\n",
              "[5 rows x 4 columns]"
            ]
          },
          "metadata": {},
          "execution_count": 88
        }
      ]
    },
    {
      "cell_type": "code",
      "metadata": {
        "colab": {
          "base_uri": "https://localhost:8080/",
          "height": 468
        },
        "id": "n3AQp4jU8FA9",
        "outputId": "701ebafe-bb6c-44d0-fb29-6a5aa9a88675"
      },
      "source": [
        "future_df['forecast'] = results.predict(start = 110, end = 124, dynamic= True)  \n",
        "future_df[['Temperature', 'forecast']].plot(figsize=(12, 8))"
      ],
      "execution_count": 102,
      "outputs": [
        {
          "output_type": "execute_result",
          "data": {
            "text/plain": [
              "<matplotlib.axes._subplots.AxesSubplot at 0x7f325532dd50>"
            ]
          },
          "metadata": {},
          "execution_count": 102
        },
        {
          "output_type": "display_data",
          "data": {
            "image/png": "[encoded data removed]",
            "text/plain": [
              "<Figure size 864x576 with 1 Axes>"
            ]
          },
          "metadata": {
            "needs_background": "light"
          }
        }
      ]
    }
  ]
}