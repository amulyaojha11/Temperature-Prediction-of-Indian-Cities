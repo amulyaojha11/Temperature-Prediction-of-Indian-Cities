{
  "nbformat": 4,
  "nbformat_minor": 0,
  "metadata": {
    "colab": {
      "name": "Kolkata.ipynb",
      "provenance": []
    },
    "kernelspec": {
      "name": "python3",
      "display_name": "Python 3"
    },
    "language_info": {
      "name": "python"
    }
  },
  "cells": [
    {
      "cell_type": "markdown",
      "metadata": {
        "id": "gwl2YehXbmQ2"
      },
      "source": [
        "### **Visualisation of Kolkata's monthly average tempertaure over past 10 years**\n",
        "\n",
        "\n",
        "---\n",
        "\n",
        "\n"
      ]
    },
    {
      "cell_type": "code",
      "metadata": {
        "id": "aIt42LEybXQt"
      },
      "source": [
        "#importing the libraries\n",
        "import pandas as pd\n",
        "import matplotlib.pyplot as plt"
      ],
      "execution_count": 42,
      "outputs": []
    },
    {
      "cell_type": "code",
      "metadata": {
        "id": "wYI8U6-AcfKl"
      },
      "source": [
        "#reading the data file \n",
        "df=pd.read_csv('../content/Kolkata.csv' )"
      ],
      "execution_count": 43,
      "outputs": []
    },
    {
      "cell_type": "code",
      "metadata": {
        "colab": {
          "base_uri": "https://localhost:8080/",
          "height": 282
        },
        "id": "BWV6wBjBcrV_",
        "outputId": "4ae115d9-1faf-4a46-caee-71fdd38f1d8e"
      },
      "source": [
        "df.plot()"
      ],
      "execution_count": 44,
      "outputs": [
        {
          "output_type": "execute_result",
          "data": {
            "text/plain": [
              "<matplotlib.axes._subplots.AxesSubplot at 0x7f52916a8650>"
            ]
          },
          "metadata": {},
          "execution_count": 44
        },
        {
          "output_type": "display_data",
          "data": {
            "image/png": "[encoded data removed]",
            "text/plain": [
              "<Figure size 432x288 with 1 Axes>"
            ]
          },
          "metadata": {
            "needs_background": "light"
          }
        }
      ]
    },
    {
      "cell_type": "code",
      "metadata": {
        "id": "x-bXkTwUc5Gw"
      },
      "source": [
        "df.set_index('Date',inplace=True) #to set date column as index"
      ],
      "execution_count": 45,
      "outputs": []
    },
    {
      "cell_type": "code",
      "metadata": {
        "id": "1gcfkHI5c7vV"
      },
      "source": [
        "df.index = pd.to_datetime(df.index) #to change index to datetime format\n",
        "df['Month'] = df.index.month #to extract month\n",
        "df['Year']=df.index.year #to extract year"
      ],
      "execution_count": 46,
      "outputs": []
    },
    {
      "cell_type": "code",
      "metadata": {
        "colab": {
          "base_uri": "https://localhost:8080/",
          "height": 235
        },
        "id": "sEnycNVlc_T-",
        "outputId": "f975f4a2-033a-45ca-fcd3-fd9338ace663"
      },
      "source": [
        "df.head()#printing the first few rows"
      ],
      "execution_count": 47,
      "outputs": [
        {
          "output_type": "execute_result",
          "data": {
            "text/html": [
              "<div>\n",
              "<style scoped>\n",
              "    .dataframe tbody tr th:only-of-type {\n",
              "        vertical-align: middle;\n",
              "    }\n",
              "\n",
              "    .dataframe tbody tr th {\n",
              "        vertical-align: top;\n",
              "    }\n",
              "\n",
              "    .dataframe thead th {\n",
              "        text-align: right;\n",
              "    }\n",
              "</style>\n",
              "<table border=\"1\" class=\"dataframe\">\n",
              "  <thead>\n",
              "    <tr style=\"text-align: right;\">\n",
              "      <th></th>\n",
              "      <th>Temperature</th>\n",
              "      <th>Month</th>\n",
              "      <th>Year</th>\n",
              "    </tr>\n",
              "    <tr>\n",
              "      <th>Date</th>\n",
              "      <th></th>\n",
              "      <th></th>\n",
              "      <th></th>\n",
              "    </tr>\n",
              "  </thead>\n",
              "  <tbody>\n",
              "    <tr>\n",
              "      <th>2009-01-01</th>\n",
              "      <td>20.6</td>\n",
              "      <td>1</td>\n",
              "      <td>2009</td>\n",
              "    </tr>\n",
              "    <tr>\n",
              "      <th>2009-02-01</th>\n",
              "      <td>23.4</td>\n",
              "      <td>2</td>\n",
              "      <td>2009</td>\n",
              "    </tr>\n",
              "    <tr>\n",
              "      <th>2009-03-01</th>\n",
              "      <td>27.4</td>\n",
              "      <td>3</td>\n",
              "      <td>2009</td>\n",
              "    </tr>\n",
              "    <tr>\n",
              "      <th>2009-04-01</th>\n",
              "      <td>31.5</td>\n",
              "      <td>4</td>\n",
              "      <td>2009</td>\n",
              "    </tr>\n",
              "    <tr>\n",
              "      <th>2009-05-01</th>\n",
              "      <td>29.9</td>\n",
              "      <td>5</td>\n",
              "      <td>2009</td>\n",
              "    </tr>\n",
              "  </tbody>\n",
              "</table>\n",
              "</div>"
            ],
            "text/plain": [
              "            Temperature  Month  Year\n",
              "Date                                \n",
              "2009-01-01         20.6      1  2009\n",
              "2009-02-01         23.4      2  2009\n",
              "2009-03-01         27.4      3  2009\n",
              "2009-04-01         31.5      4  2009\n",
              "2009-05-01         29.9      5  2009"
            ]
          },
          "metadata": {},
          "execution_count": 47
        }
      ]
    },
    {
      "cell_type": "markdown",
      "metadata": {
        "id": "_Ax4aJ25dFFT"
      },
      "source": [
        "### **Creating a pivot table of the dataset**\n",
        "\n",
        "---\n",
        "\n"
      ]
    },
    {
      "cell_type": "markdown",
      "metadata": {
        "id": "HV7LzEqxdMEB"
      },
      "source": [
        "Pivot table allows to reorganize and summarize selected columns and rows of data in database to obtain a desired report"
      ]
    },
    {
      "cell_type": "code",
      "metadata": {
        "id": "AHS4uD4wdTYX"
      },
      "source": [
        "#creating a pivot table and assigning row value columns values and the values that'd be in the table\n",
        "pivot = df.pivot_table(values='Temperature',index='Month',columns='Year')"
      ],
      "execution_count": 48,
      "outputs": []
    },
    {
      "cell_type": "code",
      "metadata": {
        "colab": {
          "base_uri": "https://localhost:8080/",
          "height": 452
        },
        "id": "Ap24mveXdCgT",
        "outputId": "6048eca4-8052-494c-8902-18c9ef296960"
      },
      "source": [
        "pivot #print the pivot table"
      ],
      "execution_count": 49,
      "outputs": [
        {
          "output_type": "execute_result",
          "data": {
            "text/html": [
              "<div>\n",
              "<style scoped>\n",
              "    .dataframe tbody tr th:only-of-type {\n",
              "        vertical-align: middle;\n",
              "    }\n",
              "\n",
              "    .dataframe tbody tr th {\n",
              "        vertical-align: top;\n",
              "    }\n",
              "\n",
              "    .dataframe thead th {\n",
              "        text-align: right;\n",
              "    }\n",
              "</style>\n",
              "<table border=\"1\" class=\"dataframe\">\n",
              "  <thead>\n",
              "    <tr style=\"text-align: right;\">\n",
              "      <th>Year</th>\n",
              "      <th>2009</th>\n",
              "      <th>2010</th>\n",
              "      <th>2011</th>\n",
              "      <th>2012</th>\n",
              "      <th>2013</th>\n",
              "      <th>2014</th>\n",
              "      <th>2015</th>\n",
              "      <th>2016</th>\n",
              "      <th>2017</th>\n",
              "      <th>2018</th>\n",
              "      <th>2019</th>\n",
              "    </tr>\n",
              "    <tr>\n",
              "      <th>Month</th>\n",
              "      <th></th>\n",
              "      <th></th>\n",
              "      <th></th>\n",
              "      <th></th>\n",
              "      <th></th>\n",
              "      <th></th>\n",
              "      <th></th>\n",
              "      <th></th>\n",
              "      <th></th>\n",
              "      <th></th>\n",
              "      <th></th>\n",
              "    </tr>\n",
              "  </thead>\n",
              "  <tbody>\n",
              "    <tr>\n",
              "      <th>1</th>\n",
              "      <td>20.6</td>\n",
              "      <td>17.5</td>\n",
              "      <td>17.9</td>\n",
              "      <td>19.3</td>\n",
              "      <td>18.5</td>\n",
              "      <td>17.9</td>\n",
              "      <td>19.2</td>\n",
              "      <td>19.7</td>\n",
              "      <td>19.2</td>\n",
              "      <td>17.1</td>\n",
              "      <td>18.6</td>\n",
              "    </tr>\n",
              "    <tr>\n",
              "      <th>2</th>\n",
              "      <td>23.4</td>\n",
              "      <td>23.0</td>\n",
              "      <td>22.4</td>\n",
              "      <td>22.5</td>\n",
              "      <td>22.2</td>\n",
              "      <td>21.4</td>\n",
              "      <td>23.2</td>\n",
              "      <td>25.2</td>\n",
              "      <td>23.5</td>\n",
              "      <td>24.1</td>\n",
              "      <td>22.0</td>\n",
              "    </tr>\n",
              "    <tr>\n",
              "      <th>3</th>\n",
              "      <td>27.4</td>\n",
              "      <td>29.3</td>\n",
              "      <td>27.1</td>\n",
              "      <td>28.0</td>\n",
              "      <td>28.2</td>\n",
              "      <td>27.1</td>\n",
              "      <td>26.8</td>\n",
              "      <td>28.9</td>\n",
              "      <td>26.4</td>\n",
              "      <td>28.5</td>\n",
              "      <td>26.6</td>\n",
              "    </tr>\n",
              "    <tr>\n",
              "      <th>4</th>\n",
              "      <td>31.5</td>\n",
              "      <td>31.6</td>\n",
              "      <td>28.9</td>\n",
              "      <td>29.9</td>\n",
              "      <td>30.2</td>\n",
              "      <td>31.7</td>\n",
              "      <td>29.0</td>\n",
              "      <td>32.4</td>\n",
              "      <td>30.3</td>\n",
              "      <td>29.5</td>\n",
              "      <td>29.6</td>\n",
              "    </tr>\n",
              "    <tr>\n",
              "      <th>5</th>\n",
              "      <td>29.9</td>\n",
              "      <td>30.5</td>\n",
              "      <td>29.9</td>\n",
              "      <td>31.7</td>\n",
              "      <td>29.9</td>\n",
              "      <td>31.2</td>\n",
              "      <td>31.6</td>\n",
              "      <td>30.9</td>\n",
              "      <td>31.1</td>\n",
              "      <td>29.7</td>\n",
              "      <td>30.9</td>\n",
              "    </tr>\n",
              "    <tr>\n",
              "      <th>6</th>\n",
              "      <td>31.5</td>\n",
              "      <td>30.5</td>\n",
              "      <td>29.6</td>\n",
              "      <td>31.4</td>\n",
              "      <td>29.6</td>\n",
              "      <td>30.4</td>\n",
              "      <td>30.1</td>\n",
              "      <td>30.6</td>\n",
              "      <td>30.3</td>\n",
              "      <td>30.1</td>\n",
              "      <td>30.7</td>\n",
              "    </tr>\n",
              "    <tr>\n",
              "      <th>7</th>\n",
              "      <td>29.0</td>\n",
              "      <td>29.6</td>\n",
              "      <td>29.6</td>\n",
              "      <td>29.4</td>\n",
              "      <td>29.2</td>\n",
              "      <td>29.4</td>\n",
              "      <td>28.5</td>\n",
              "      <td>29.1</td>\n",
              "      <td>29.1</td>\n",
              "      <td>28.8</td>\n",
              "      <td>30.1</td>\n",
              "    </tr>\n",
              "    <tr>\n",
              "      <th>8</th>\n",
              "      <td>29.0</td>\n",
              "      <td>29.7</td>\n",
              "      <td>28.8</td>\n",
              "      <td>29.2</td>\n",
              "      <td>28.6</td>\n",
              "      <td>29.4</td>\n",
              "      <td>29.8</td>\n",
              "      <td>29.2</td>\n",
              "      <td>28.9</td>\n",
              "      <td>29.1</td>\n",
              "      <td>NaN</td>\n",
              "    </tr>\n",
              "    <tr>\n",
              "      <th>9</th>\n",
              "      <td>29.1</td>\n",
              "      <td>28.9</td>\n",
              "      <td>28.7</td>\n",
              "      <td>29.2</td>\n",
              "      <td>29.0</td>\n",
              "      <td>29.3</td>\n",
              "      <td>30.0</td>\n",
              "      <td>29.3</td>\n",
              "      <td>29.5</td>\n",
              "      <td>29.4</td>\n",
              "      <td>NaN</td>\n",
              "    </tr>\n",
              "    <tr>\n",
              "      <th>10</th>\n",
              "      <td>27.4</td>\n",
              "      <td>28.1</td>\n",
              "      <td>28.5</td>\n",
              "      <td>27.5</td>\n",
              "      <td>27.0</td>\n",
              "      <td>27.7</td>\n",
              "      <td>28.5</td>\n",
              "      <td>28.5</td>\n",
              "      <td>27.4</td>\n",
              "      <td>27.8</td>\n",
              "      <td>NaN</td>\n",
              "    </tr>\n",
              "    <tr>\n",
              "      <th>11</th>\n",
              "      <td>24.7</td>\n",
              "      <td>25.6</td>\n",
              "      <td>24.3</td>\n",
              "      <td>23.7</td>\n",
              "      <td>23.5</td>\n",
              "      <td>23.8</td>\n",
              "      <td>25.3</td>\n",
              "      <td>24.2</td>\n",
              "      <td>23.3</td>\n",
              "      <td>24.2</td>\n",
              "      <td>NaN</td>\n",
              "    </tr>\n",
              "    <tr>\n",
              "      <th>12</th>\n",
              "      <td>19.6</td>\n",
              "      <td>19.4</td>\n",
              "      <td>20.1</td>\n",
              "      <td>19.5</td>\n",
              "      <td>19.8</td>\n",
              "      <td>19.3</td>\n",
              "      <td>21.3</td>\n",
              "      <td>20.4</td>\n",
              "      <td>19.9</td>\n",
              "      <td>18.7</td>\n",
              "      <td>NaN</td>\n",
              "    </tr>\n",
              "  </tbody>\n",
              "</table>\n",
              "</div>"
            ],
            "text/plain": [
              "Year   2009  2010  2011  2012  2013  2014  2015  2016  2017  2018  2019\n",
              "Month                                                                  \n",
              "1      20.6  17.5  17.9  19.3  18.5  17.9  19.2  19.7  19.2  17.1  18.6\n",
              "2      23.4  23.0  22.4  22.5  22.2  21.4  23.2  25.2  23.5  24.1  22.0\n",
              "3      27.4  29.3  27.1  28.0  28.2  27.1  26.8  28.9  26.4  28.5  26.6\n",
              "4      31.5  31.6  28.9  29.9  30.2  31.7  29.0  32.4  30.3  29.5  29.6\n",
              "5      29.9  30.5  29.9  31.7  29.9  31.2  31.6  30.9  31.1  29.7  30.9\n",
              "6      31.5  30.5  29.6  31.4  29.6  30.4  30.1  30.6  30.3  30.1  30.7\n",
              "7      29.0  29.6  29.6  29.4  29.2  29.4  28.5  29.1  29.1  28.8  30.1\n",
              "8      29.0  29.7  28.8  29.2  28.6  29.4  29.8  29.2  28.9  29.1   NaN\n",
              "9      29.1  28.9  28.7  29.2  29.0  29.3  30.0  29.3  29.5  29.4   NaN\n",
              "10     27.4  28.1  28.5  27.5  27.0  27.7  28.5  28.5  27.4  27.8   NaN\n",
              "11     24.7  25.6  24.3  23.7  23.5  23.8  25.3  24.2  23.3  24.2   NaN\n",
              "12     19.6  19.4  20.1  19.5  19.8  19.3  21.3  20.4  19.9  18.7   NaN"
            ]
          },
          "metadata": {},
          "execution_count": 49
        }
      ]
    },
    {
      "cell_type": "code",
      "metadata": {
        "colab": {
          "base_uri": "https://localhost:8080/",
          "height": 296
        },
        "id": "RXSsuOnieHs0",
        "outputId": "988d7afe-2b29-49d9-bf63-c9d67ba45125"
      },
      "source": [
        "pivot.plot() #getting the plot of the table\n",
        "plt.ylabel('Temperature') #assigning the y-label\n",
        "plt.xlabel('Month') #assigning the x-label"
      ],
      "execution_count": 50,
      "outputs": [
        {
          "output_type": "execute_result",
          "data": {
            "text/plain": [
              "Text(0.5, 0, 'Month')"
            ]
          },
          "metadata": {},
          "execution_count": 50
        },
        {
          "output_type": "display_data",
          "data": {
            "image/png": "[encoded data removed]",
            "text/plain": [
              "<Figure size 432x288 with 1 Axes>"
            ]
          },
          "metadata": {
            "needs_background": "light"
          }
        }
      ]
    },
    {
      "cell_type": "markdown",
      "metadata": {
        "id": "WXz8xcqpwy1z"
      },
      "source": [
        "The above graph visualises the trend in monthly avg temperature over the past 10 years"
      ]
    },
    {
      "cell_type": "code",
      "metadata": {
        "id": "BFgeu7wGw03G"
      },
      "source": [
        "monthly_seasonality=pivot.mean(axis=1)#getting the seasonality factor by taking the mean across the vertical axis"
      ],
      "execution_count": 51,
      "outputs": []
    },
    {
      "cell_type": "code",
      "metadata": {
        "colab": {
          "base_uri": "https://localhost:8080/",
          "height": 296
        },
        "id": "C9lrG2d0w5y8",
        "outputId": "e529d019-c4b6-4e0d-eb8c-9350862b550e"
      },
      "source": [
        "monthly_seasonality.plot()"
      ],
      "execution_count": 52,
      "outputs": [
        {
          "output_type": "execute_result",
          "data": {
            "text/plain": [
              "<matplotlib.axes._subplots.AxesSubplot at 0x7f5290f6b650>"
            ]
          },
          "metadata": {},
          "execution_count": 52
        },
        {
          "output_type": "display_data",
          "data": {
            "image/png": "[encoded data removed]",
            "text/plain": [
              "<Figure size 432x288 with 1 Axes>"
            ]
          },
          "metadata": {
            "needs_background": "light"
          }
        }
      ]
    },
    {
      "cell_type": "markdown",
      "metadata": {
        "id": "G7vU4vnuw8uV"
      },
      "source": [
        "The above graph shows the seasonality trend over the years."
      ]
    }
  ]
}