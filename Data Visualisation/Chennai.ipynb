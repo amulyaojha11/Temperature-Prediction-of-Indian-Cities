{
 "cells": [
  {
   "cell_type": "markdown",
   "id": "0431243f",
   "metadata": {},
   "source": [
    "# Visualisation of Chennai's monthly average tempertaure over past 10 years"
   ]
  },
  {
   "cell_type": "code",
   "execution_count": 18,
   "id": "d1ffd459",
   "metadata": {},
   "outputs": [],
   "source": [
    "#importing the libraries\n",
    "import numpy as np\n",
    "import pandas as pd\n",
    "import seaborn as sns\n",
    "import matplotlib.pyplot as plt"
   ]
  },
  {
   "cell_type": "code",
   "execution_count": 19,
   "id": "8a8b837b",
   "metadata": {},
   "outputs": [],
   "source": [
    " #reading the data file \n",
    "df=pd.read_csv('../Data/Chennai.csv' )"
   ]
  },
  {
   "cell_type": "code",
   "execution_count": 20,
   "id": "0bac5054",
   "metadata": {},
   "outputs": [],
   "source": [
    "df.set_index('Date',inplace=True) #to set date column as index"
   ]
  },
  {
   "cell_type": "code",
   "execution_count": 21,
   "id": "b7ab95a8",
   "metadata": {},
   "outputs": [],
   "source": [
    "df.index = pd.to_datetime(df.index) #to change index to datetime format\n",
    "df['Month'] = df.index.month #to extract month\n",
    "df['Year']=df.index.year #to extract year"
   ]
  },
  {
   "cell_type": "code",
   "execution_count": 22,
   "id": "81415aba",
   "metadata": {},
   "outputs": [
    {
     "data": {
      "text/html": [
       "<div>\n",
       "<style scoped>\n",
       "    .dataframe tbody tr th:only-of-type {\n",
       "        vertical-align: middle;\n",
       "    }\n",
       "\n",
       "    .dataframe tbody tr th {\n",
       "        vertical-align: top;\n",
       "    }\n",
       "\n",
       "    .dataframe thead th {\n",
       "        text-align: right;\n",
       "    }\n",
       "</style>\n",
       "<table border=\"1\" class=\"dataframe\">\n",
       "  <thead>\n",
       "    <tr style=\"text-align: right;\">\n",
       "      <th></th>\n",
       "      <th>Temperature</th>\n",
       "      <th>Month</th>\n",
       "      <th>Year</th>\n",
       "    </tr>\n",
       "    <tr>\n",
       "      <th>Date</th>\n",
       "      <th></th>\n",
       "      <th></th>\n",
       "      <th></th>\n",
       "    </tr>\n",
       "  </thead>\n",
       "  <tbody>\n",
       "    <tr>\n",
       "      <th>2009-01-01</th>\n",
       "      <td>25.1</td>\n",
       "      <td>1</td>\n",
       "      <td>2009</td>\n",
       "    </tr>\n",
       "    <tr>\n",
       "      <th>2009-02-01</th>\n",
       "      <td>26.6</td>\n",
       "      <td>2</td>\n",
       "      <td>2009</td>\n",
       "    </tr>\n",
       "    <tr>\n",
       "      <th>2009-03-01</th>\n",
       "      <td>28.5</td>\n",
       "      <td>3</td>\n",
       "      <td>2009</td>\n",
       "    </tr>\n",
       "    <tr>\n",
       "      <th>2009-04-01</th>\n",
       "      <td>30.8</td>\n",
       "      <td>4</td>\n",
       "      <td>2009</td>\n",
       "    </tr>\n",
       "    <tr>\n",
       "      <th>2009-05-01</th>\n",
       "      <td>32.1</td>\n",
       "      <td>5</td>\n",
       "      <td>2009</td>\n",
       "    </tr>\n",
       "  </tbody>\n",
       "</table>\n",
       "</div>"
      ],
      "text/plain": [
       "            Temperature  Month  Year\n",
       "Date                                \n",
       "2009-01-01         25.1      1  2009\n",
       "2009-02-01         26.6      2  2009\n",
       "2009-03-01         28.5      3  2009\n",
       "2009-04-01         30.8      4  2009\n",
       "2009-05-01         32.1      5  2009"
      ]
     },
     "execution_count": 22,
     "metadata": {},
     "output_type": "execute_result"
    }
   ],
   "source": [
    "df.head()#printing the first few rows"
   ]
  },
  {
   "cell_type": "markdown",
   "id": "c7c54408",
   "metadata": {},
   "source": [
    "# Creating a pivot table of the dataset\n",
    "   Pivot table allows to reorganize and summarize selected columns and rows of data in databaseto obtain a desired report."
   ]
  },
  {
   "cell_type": "code",
   "execution_count": 23,
   "id": "52bbf633",
   "metadata": {},
   "outputs": [],
   "source": [
    "#creating a pivot table and assigning row value columns values and the values that'd be in the table\n",
    "pivot = df.pivot_table(values='Temperature',index='Month',columns='Year')"
   ]
  },
  {
   "cell_type": "code",
   "execution_count": 24,
   "id": "78663baf",
   "metadata": {},
   "outputs": [
    {
     "data": {
      "text/html": [
       "<div>\n",
       "<style scoped>\n",
       "    .dataframe tbody tr th:only-of-type {\n",
       "        vertical-align: middle;\n",
       "    }\n",
       "\n",
       "    .dataframe tbody tr th {\n",
       "        vertical-align: top;\n",
       "    }\n",
       "\n",
       "    .dataframe thead th {\n",
       "        text-align: right;\n",
       "    }\n",
       "</style>\n",
       "<table border=\"1\" class=\"dataframe\">\n",
       "  <thead>\n",
       "    <tr style=\"text-align: right;\">\n",
       "      <th>Year</th>\n",
       "      <th>2009</th>\n",
       "      <th>2010</th>\n",
       "      <th>2011</th>\n",
       "      <th>2012</th>\n",
       "      <th>2013</th>\n",
       "      <th>2014</th>\n",
       "      <th>2015</th>\n",
       "      <th>2016</th>\n",
       "      <th>2017</th>\n",
       "      <th>2018</th>\n",
       "      <th>2019</th>\n",
       "    </tr>\n",
       "    <tr>\n",
       "      <th>Month</th>\n",
       "      <th></th>\n",
       "      <th></th>\n",
       "      <th></th>\n",
       "      <th></th>\n",
       "      <th></th>\n",
       "      <th></th>\n",
       "      <th></th>\n",
       "      <th></th>\n",
       "      <th></th>\n",
       "      <th></th>\n",
       "      <th></th>\n",
       "    </tr>\n",
       "  </thead>\n",
       "  <tbody>\n",
       "    <tr>\n",
       "      <th>1</th>\n",
       "      <td>25.1</td>\n",
       "      <td>25.1</td>\n",
       "      <td>24.7</td>\n",
       "      <td>24.8</td>\n",
       "      <td>25.1</td>\n",
       "      <td>25.1</td>\n",
       "      <td>25.1</td>\n",
       "      <td>26.2</td>\n",
       "      <td>25.5</td>\n",
       "      <td>25.3</td>\n",
       "      <td>25.2</td>\n",
       "    </tr>\n",
       "    <tr>\n",
       "      <th>2</th>\n",
       "      <td>26.6</td>\n",
       "      <td>26.1</td>\n",
       "      <td>25.6</td>\n",
       "      <td>26.0</td>\n",
       "      <td>26.1</td>\n",
       "      <td>25.5</td>\n",
       "      <td>26.0</td>\n",
       "      <td>27.4</td>\n",
       "      <td>26.3</td>\n",
       "      <td>26.7</td>\n",
       "      <td>27.9</td>\n",
       "    </tr>\n",
       "    <tr>\n",
       "      <th>3</th>\n",
       "      <td>28.5</td>\n",
       "      <td>28.7</td>\n",
       "      <td>27.5</td>\n",
       "      <td>28.9</td>\n",
       "      <td>28.1</td>\n",
       "      <td>27.9</td>\n",
       "      <td>28.7</td>\n",
       "      <td>29.5</td>\n",
       "      <td>29.4</td>\n",
       "      <td>29.0</td>\n",
       "      <td>29.9</td>\n",
       "    </tr>\n",
       "    <tr>\n",
       "      <th>4</th>\n",
       "      <td>30.8</td>\n",
       "      <td>31.2</td>\n",
       "      <td>29.5</td>\n",
       "      <td>30.6</td>\n",
       "      <td>30.6</td>\n",
       "      <td>30.4</td>\n",
       "      <td>30.2</td>\n",
       "      <td>31.5</td>\n",
       "      <td>31.7</td>\n",
       "      <td>31.5</td>\n",
       "      <td>31.8</td>\n",
       "    </tr>\n",
       "    <tr>\n",
       "      <th>5</th>\n",
       "      <td>32.1</td>\n",
       "      <td>31.5</td>\n",
       "      <td>31.8</td>\n",
       "      <td>33.0</td>\n",
       "      <td>31.8</td>\n",
       "      <td>31.6</td>\n",
       "      <td>31.7</td>\n",
       "      <td>31.8</td>\n",
       "      <td>33.1</td>\n",
       "      <td>32.6</td>\n",
       "      <td>33.2</td>\n",
       "    </tr>\n",
       "    <tr>\n",
       "      <th>6</th>\n",
       "      <td>32.3</td>\n",
       "      <td>30.2</td>\n",
       "      <td>32.0</td>\n",
       "      <td>32.5</td>\n",
       "      <td>31.0</td>\n",
       "      <td>32.2</td>\n",
       "      <td>31.5</td>\n",
       "      <td>30.7</td>\n",
       "      <td>32.3</td>\n",
       "      <td>32.6</td>\n",
       "      <td>33.6</td>\n",
       "    </tr>\n",
       "    <tr>\n",
       "      <th>7</th>\n",
       "      <td>31.9</td>\n",
       "      <td>29.1</td>\n",
       "      <td>30.2</td>\n",
       "      <td>30.6</td>\n",
       "      <td>29.3</td>\n",
       "      <td>31.0</td>\n",
       "      <td>31.3</td>\n",
       "      <td>30.4</td>\n",
       "      <td>31.3</td>\n",
       "      <td>31.9</td>\n",
       "      <td>31.6</td>\n",
       "    </tr>\n",
       "    <tr>\n",
       "      <th>8</th>\n",
       "      <td>29.6</td>\n",
       "      <td>28.9</td>\n",
       "      <td>29.5</td>\n",
       "      <td>29.6</td>\n",
       "      <td>29.1</td>\n",
       "      <td>29.7</td>\n",
       "      <td>30.2</td>\n",
       "      <td>30.9</td>\n",
       "      <td>29.8</td>\n",
       "      <td>30.5</td>\n",
       "      <td>NaN</td>\n",
       "    </tr>\n",
       "    <tr>\n",
       "      <th>9</th>\n",
       "      <td>30.2</td>\n",
       "      <td>28.7</td>\n",
       "      <td>29.3</td>\n",
       "      <td>29.3</td>\n",
       "      <td>29.0</td>\n",
       "      <td>28.9</td>\n",
       "      <td>30.3</td>\n",
       "      <td>29.5</td>\n",
       "      <td>29.7</td>\n",
       "      <td>29.8</td>\n",
       "      <td>NaN</td>\n",
       "    </tr>\n",
       "    <tr>\n",
       "      <th>10</th>\n",
       "      <td>29.7</td>\n",
       "      <td>28.5</td>\n",
       "      <td>28.1</td>\n",
       "      <td>28.0</td>\n",
       "      <td>28.3</td>\n",
       "      <td>28.2</td>\n",
       "      <td>28.7</td>\n",
       "      <td>29.3</td>\n",
       "      <td>28.9</td>\n",
       "      <td>28.7</td>\n",
       "      <td>NaN</td>\n",
       "    </tr>\n",
       "    <tr>\n",
       "      <th>11</th>\n",
       "      <td>26.5</td>\n",
       "      <td>26.5</td>\n",
       "      <td>26.1</td>\n",
       "      <td>26.7</td>\n",
       "      <td>26.4</td>\n",
       "      <td>26.5</td>\n",
       "      <td>26.7</td>\n",
       "      <td>26.8</td>\n",
       "      <td>27.1</td>\n",
       "      <td>27.5</td>\n",
       "      <td>NaN</td>\n",
       "    </tr>\n",
       "    <tr>\n",
       "      <th>12</th>\n",
       "      <td>25.2</td>\n",
       "      <td>24.7</td>\n",
       "      <td>25.2</td>\n",
       "      <td>25.9</td>\n",
       "      <td>24.9</td>\n",
       "      <td>25.6</td>\n",
       "      <td>26.5</td>\n",
       "      <td>25.3</td>\n",
       "      <td>26.6</td>\n",
       "      <td>26.4</td>\n",
       "      <td>NaN</td>\n",
       "    </tr>\n",
       "  </tbody>\n",
       "</table>\n",
       "</div>"
      ],
      "text/plain": [
       "Year   2009  2010  2011  2012  2013  2014  2015  2016  2017  2018  2019\n",
       "Month                                                                  \n",
       "1      25.1  25.1  24.7  24.8  25.1  25.1  25.1  26.2  25.5  25.3  25.2\n",
       "2      26.6  26.1  25.6  26.0  26.1  25.5  26.0  27.4  26.3  26.7  27.9\n",
       "3      28.5  28.7  27.5  28.9  28.1  27.9  28.7  29.5  29.4  29.0  29.9\n",
       "4      30.8  31.2  29.5  30.6  30.6  30.4  30.2  31.5  31.7  31.5  31.8\n",
       "5      32.1  31.5  31.8  33.0  31.8  31.6  31.7  31.8  33.1  32.6  33.2\n",
       "6      32.3  30.2  32.0  32.5  31.0  32.2  31.5  30.7  32.3  32.6  33.6\n",
       "7      31.9  29.1  30.2  30.6  29.3  31.0  31.3  30.4  31.3  31.9  31.6\n",
       "8      29.6  28.9  29.5  29.6  29.1  29.7  30.2  30.9  29.8  30.5   NaN\n",
       "9      30.2  28.7  29.3  29.3  29.0  28.9  30.3  29.5  29.7  29.8   NaN\n",
       "10     29.7  28.5  28.1  28.0  28.3  28.2  28.7  29.3  28.9  28.7   NaN\n",
       "11     26.5  26.5  26.1  26.7  26.4  26.5  26.7  26.8  27.1  27.5   NaN\n",
       "12     25.2  24.7  25.2  25.9  24.9  25.6  26.5  25.3  26.6  26.4   NaN"
      ]
     },
     "execution_count": 24,
     "metadata": {},
     "output_type": "execute_result"
    }
   ],
   "source": [
    "pivot #print the pivot table "
   ]
  },
  {
   "cell_type": "code",
   "execution_count": 15,
   "id": "06226502",
   "metadata": {},
   "outputs": [
    {
     "data": {
      "text/plain": [
       "Text(0.5, 0, 'Month')"
      ]
     },
     "execution_count": 15,
     "metadata": {},
     "output_type": "execute_result"
    },
    {
     "data": {
      "image/png": "[encoded data removed]",
      "text/plain": [
       "<Figure size 432x288 with 1 Axes>"
      ]
     },
     "metadata": {
      "needs_background": "light"
     },
     "output_type": "display_data"
    }
   ],
   "source": [
    "pivot.plot() #getting the plot of the table\n",
    "plt.ylabel('Temperature') #assigning the y-label\n",
    "plt.xlabel('Month') #assigning the x-label"
   ]
  },
  {
   "cell_type": "markdown",
   "id": "da13b04d",
   "metadata": {},
   "source": [
    "The above graph visualises the trend in monthly avg temperature over the past 10 years "
   ]
  },
  {
   "cell_type": "code",
   "execution_count": 16,
   "id": "57d935c5",
   "metadata": {},
   "outputs": [],
   "source": [
    "monthly_seasonality=pivot.mean(axis=1)#getting the seasonality factor by taking the mean across the vertical axis"
   ]
  },
  {
   "cell_type": "code",
   "execution_count": 17,
   "id": "42a0ebfd",
   "metadata": {},
   "outputs": [
    {
     "data": {
      "text/plain": [
       "<AxesSubplot:xlabel='Month'>"
      ]
     },
     "execution_count": 17,
     "metadata": {},
     "output_type": "execute_result"
    },
    {
     "data": {
      "image/png": "[encoded data removed]",
      "text/plain": [
       "<Figure size 432x288 with 1 Axes>"
      ]
     },
     "metadata": {
      "needs_background": "light"
     },
     "output_type": "display_data"
    }
   ],
   "source": [
    "monthly_seasonality.plot()"
   ]
  },
  {
   "cell_type": "markdown",
   "id": "8b463d9c",
   "metadata": {},
   "source": [
    "The above graph shows the seasonality trend over the years "
   ]
  },
  {
   "cell_type": "code",
   "execution_count": null,
   "id": "400d1955",
   "metadata": {},
   "outputs": [],
   "source": []
  }
 ],
 "metadata": {
  "kernelspec": {
   "display_name": "Python 3",
   "language": "python",
   "name": "python3"
  },
  "language_info": {
   "codemirror_mode": {
    "name": "ipython",
    "version": 3
   },
   "file_extension": ".py",
   "mimetype": "text/x-python",
   "name": "python",
   "nbconvert_exporter": "python",
   "pygments_lexer": "ipython3",
   "version": "3.8.8"
  }
 },
 "nbformat": 4,
 "nbformat_minor": 5
}
