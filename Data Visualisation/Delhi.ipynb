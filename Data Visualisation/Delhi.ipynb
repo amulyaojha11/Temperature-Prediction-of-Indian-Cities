{
 "cells": [
  {
   "cell_type": "markdown",
   "id": "0431243f",
   "metadata": {},
   "source": [
    "# Visualisation of Delhi's monthly average tempertaure over past 10 years"
   ]
  },
  {
   "cell_type": "code",
   "execution_count": 34,
   "id": "d1ffd459",
   "metadata": {},
   "outputs": [],
   "source": [
    "#importing the libraries\n",
    "import pandas as pd\n",
    "import matplotlib.pyplot as plt"
   ]
  },
  {
   "cell_type": "code",
   "execution_count": 35,
   "id": "8a8b837b",
   "metadata": {},
   "outputs": [],
   "source": [
    " #reading the data file \n",
    "df=pd.read_csv('../Data/Delhi.csv' )"
   ]
   
  },
  {
   "cell_type": "code",
   "execution_count": 36,
   "id": "8099e548",
   "metadata": {},
   "outputs": [
    {
     "data": {
      "text/plain": [
       "<AxesSubplot:>"
      ]
     },
     "execution_count": 36,
     "metadata": {},
     "output_type": "execute_result"
    },
    {
     "data": {
      "image/png": "[encoded data removed]",
      "text/plain": [
       "<Figure size 432x288 with 1 Axes>"
      ]
     },
     "metadata": {
      "needs_background": "light"
     },
     "output_type": "display_data"
    }
   ],
   "source": [
    "df.plot() #plotting the dataset"
   ]
  },
  {
   "cell_type": "code",
   "execution_count": 37,
   "id": "0bac5054",
   "metadata": {},
   "outputs": [],
   "source": [
    "df.set_index('Date',inplace=True) #to set date column as index"
   ]
  },
  {
   "cell_type": "code",
   "execution_count": 38,
   "id": "b7ab95a8",
   "metadata": {},
   "outputs": [],
   "source": [
    "df.index = pd.to_datetime(df.index) #to change index to datetime format\n",
    "df['Month'] = df.index.month #to extract month\n",
    "df['Year']=df.index.year #to extract year"
   ]
  },
  {
   "cell_type": "code",
   "execution_count": 28,
   "id": "81415aba",
   "metadata": {},
   "outputs": [
    {
     "data": {
      "text/html": [
       "<div>\n",
       "<style scoped>\n",
       "    .dataframe tbody tr th:only-of-type {\n",
       "        vertical-align: middle;\n",
       "    }\n",
       "\n",
       "    .dataframe tbody tr th {\n",
       "        vertical-align: top;\n",
       "    }\n",
       "\n",
       "    .dataframe thead th {\n",
       "        text-align: right;\n",
       "    }\n",
       "</style>\n",
       "<table border=\"1\" class=\"dataframe\">\n",
       "  <thead>\n",
       "    <tr style=\"text-align: right;\">\n",
       "      <th></th>\n",
       "      <th>Temperature</th>\n",
       "      <th>Month</th>\n",
       "      <th>Year</th>\n",
       "    </tr>\n",
       "    <tr>\n",
       "      <th>Date</th>\n",
       "      <th></th>\n",
       "      <th></th>\n",
       "      <th></th>\n",
       "    </tr>\n",
       "  </thead>\n",
       "  <tbody>\n",
       "    <tr>\n",
       "      <th>2009-01-01</th>\n",
       "      <td>14.8</td>\n",
       "      <td>1</td>\n",
       "      <td>2009</td>\n",
       "    </tr>\n",
       "    <tr>\n",
       "      <th>2009-02-01</th>\n",
       "      <td>18.3</td>\n",
       "      <td>2</td>\n",
       "      <td>2009</td>\n",
       "    </tr>\n",
       "    <tr>\n",
       "      <th>2009-03-01</th>\n",
       "      <td>23.5</td>\n",
       "      <td>3</td>\n",
       "      <td>2009</td>\n",
       "    </tr>\n",
       "    <tr>\n",
       "      <th>2009-04-01</th>\n",
       "      <td>29.7</td>\n",
       "      <td>4</td>\n",
       "      <td>2009</td>\n",
       "    </tr>\n",
       "    <tr>\n",
       "      <th>2009-05-01</th>\n",
       "      <td>32.4</td>\n",
       "      <td>5</td>\n",
       "      <td>2009</td>\n",
       "    </tr>\n",
       "  </tbody>\n",
       "</table>\n",
       "</div>"
      ],
      "text/plain": [
       "            Temperature  Month  Year\n",
       "Date                                \n",
       "2009-01-01         14.8      1  2009\n",
       "2009-02-01         18.3      2  2009\n",
       "2009-03-01         23.5      3  2009\n",
       "2009-04-01         29.7      4  2009\n",
       "2009-05-01         32.4      5  2009"
      ]
     },
     "execution_count": 28,
     "metadata": {},
     "output_type": "execute_result"
    }
   ],
   "source": [
    "df.head()#printing the first few rows"
   ]
  },
  {
   "cell_type": "markdown",
   "id": "c7c54408",
   "metadata": {},
   "source": [
    "# Creating a pivot table of the dataset\n",
    "   Pivot table allows to reorganize and summarize selected columns and rows of data in databaseto obtain a desired report."
   ]
  },
  {
   "cell_type": "code",
   "execution_count": 29,
   "id": "52bbf633",
   "metadata": {},
   "outputs": [],
   "source": [
    "#creating a pivot table and assigning row value columns values and the values that'd be in the table\n",
    "pivot = df.pivot_table(values='Temperature',index='Month',columns='Year')"
   ]
  },
  {
   "cell_type": "code",
   "execution_count": 30,
   "id": "78663baf",
   "metadata": {},
   "outputs": [
    {
     "data": {
      "text/html": [
       "<div>\n",
       "<style scoped>\n",
       "    .dataframe tbody tr th:only-of-type {\n",
       "        vertical-align: middle;\n",
       "    }\n",
       "\n",
       "    .dataframe tbody tr th {\n",
       "        vertical-align: top;\n",
       "    }\n",
       "\n",
       "    .dataframe thead th {\n",
       "        text-align: right;\n",
       "    }\n",
       "</style>\n",
       "<table border=\"1\" class=\"dataframe\">\n",
       "  <thead>\n",
       "    <tr style=\"text-align: right;\">\n",
       "      <th>Year</th>\n",
       "      <th>2009</th>\n",
       "      <th>2010</th>\n",
       "      <th>2011</th>\n",
       "      <th>2012</th>\n",
       "      <th>2013</th>\n",
       "      <th>2014</th>\n",
       "      <th>2015</th>\n",
       "      <th>2016</th>\n",
       "      <th>2017</th>\n",
       "      <th>2018</th>\n",
       "      <th>2019</th>\n",
       "    </tr>\n",
       "    <tr>\n",
       "      <th>Month</th>\n",
       "      <th></th>\n",
       "      <th></th>\n",
       "      <th></th>\n",
       "      <th></th>\n",
       "      <th></th>\n",
       "      <th></th>\n",
       "      <th></th>\n",
       "      <th></th>\n",
       "      <th></th>\n",
       "      <th></th>\n",
       "      <th></th>\n",
       "    </tr>\n",
       "  </thead>\n",
       "  <tbody>\n",
       "    <tr>\n",
       "      <th>1</th>\n",
       "      <td>14.8</td>\n",
       "      <td>12.9</td>\n",
       "      <td>12.4</td>\n",
       "      <td>13.0</td>\n",
       "      <td>12.1</td>\n",
       "      <td>13.4</td>\n",
       "      <td>12.8</td>\n",
       "      <td>15.6</td>\n",
       "      <td>15.2</td>\n",
       "      <td>13.7</td>\n",
       "      <td>13.7</td>\n",
       "    </tr>\n",
       "    <tr>\n",
       "      <th>2</th>\n",
       "      <td>18.3</td>\n",
       "      <td>18.1</td>\n",
       "      <td>17.0</td>\n",
       "      <td>16.3</td>\n",
       "      <td>16.8</td>\n",
       "      <td>15.7</td>\n",
       "      <td>18.8</td>\n",
       "      <td>19.0</td>\n",
       "      <td>19.4</td>\n",
       "      <td>18.2</td>\n",
       "      <td>16.7</td>\n",
       "    </tr>\n",
       "    <tr>\n",
       "      <th>3</th>\n",
       "      <td>23.5</td>\n",
       "      <td>25.9</td>\n",
       "      <td>22.9</td>\n",
       "      <td>23.0</td>\n",
       "      <td>23.2</td>\n",
       "      <td>21.7</td>\n",
       "      <td>21.6</td>\n",
       "      <td>25.7</td>\n",
       "      <td>24.5</td>\n",
       "      <td>24.6</td>\n",
       "      <td>22.4</td>\n",
       "    </tr>\n",
       "    <tr>\n",
       "      <th>4</th>\n",
       "      <td>29.7</td>\n",
       "      <td>32.5</td>\n",
       "      <td>28.0</td>\n",
       "      <td>28.4</td>\n",
       "      <td>29.0</td>\n",
       "      <td>28.1</td>\n",
       "      <td>28.0</td>\n",
       "      <td>32.4</td>\n",
       "      <td>31.9</td>\n",
       "      <td>29.8</td>\n",
       "      <td>31.0</td>\n",
       "    </tr>\n",
       "    <tr>\n",
       "      <th>5</th>\n",
       "      <td>32.4</td>\n",
       "      <td>34.6</td>\n",
       "      <td>33.2</td>\n",
       "      <td>33.6</td>\n",
       "      <td>33.8</td>\n",
       "      <td>31.6</td>\n",
       "      <td>33.6</td>\n",
       "      <td>34.7</td>\n",
       "      <td>33.9</td>\n",
       "      <td>32.7</td>\n",
       "      <td>33.8</td>\n",
       "    </tr>\n",
       "    <tr>\n",
       "      <th>6</th>\n",
       "      <td>34.6</td>\n",
       "      <td>34.4</td>\n",
       "      <td>32.7</td>\n",
       "      <td>36.1</td>\n",
       "      <td>32.5</td>\n",
       "      <td>34.9</td>\n",
       "      <td>32.6</td>\n",
       "      <td>35.0</td>\n",
       "      <td>32.9</td>\n",
       "      <td>34.3</td>\n",
       "      <td>35.7</td>\n",
       "    </tr>\n",
       "    <tr>\n",
       "      <th>7</th>\n",
       "      <td>32.1</td>\n",
       "      <td>31.1</td>\n",
       "      <td>30.7</td>\n",
       "      <td>31.9</td>\n",
       "      <td>30.6</td>\n",
       "      <td>32.1</td>\n",
       "      <td>30.5</td>\n",
       "      <td>30.9</td>\n",
       "      <td>31.4</td>\n",
       "      <td>31.2</td>\n",
       "      <td>31.8</td>\n",
       "    </tr>\n",
       "    <tr>\n",
       "      <th>8</th>\n",
       "      <td>30.9</td>\n",
       "      <td>29.6</td>\n",
       "      <td>29.9</td>\n",
       "      <td>29.3</td>\n",
       "      <td>29.6</td>\n",
       "      <td>31.5</td>\n",
       "      <td>30.5</td>\n",
       "      <td>30.9</td>\n",
       "      <td>31.0</td>\n",
       "      <td>30.5</td>\n",
       "      <td>NaN</td>\n",
       "    </tr>\n",
       "    <tr>\n",
       "      <th>9</th>\n",
       "      <td>28.9</td>\n",
       "      <td>27.8</td>\n",
       "      <td>29.2</td>\n",
       "      <td>29.2</td>\n",
       "      <td>29.9</td>\n",
       "      <td>29.8</td>\n",
       "      <td>30.7</td>\n",
       "      <td>31.1</td>\n",
       "      <td>30.4</td>\n",
       "      <td>28.4</td>\n",
       "      <td>NaN</td>\n",
       "    </tr>\n",
       "    <tr>\n",
       "      <th>10</th>\n",
       "      <td>25.1</td>\n",
       "      <td>26.1</td>\n",
       "      <td>25.7</td>\n",
       "      <td>24.9</td>\n",
       "      <td>26.3</td>\n",
       "      <td>26.6</td>\n",
       "      <td>26.9</td>\n",
       "      <td>28.0</td>\n",
       "      <td>27.3</td>\n",
       "      <td>26.0</td>\n",
       "      <td>NaN</td>\n",
       "    </tr>\n",
       "    <tr>\n",
       "      <th>11</th>\n",
       "      <td>19.4</td>\n",
       "      <td>20.4</td>\n",
       "      <td>20.9</td>\n",
       "      <td>18.9</td>\n",
       "      <td>18.8</td>\n",
       "      <td>19.8</td>\n",
       "      <td>20.8</td>\n",
       "      <td>21.8</td>\n",
       "      <td>19.0</td>\n",
       "      <td>21.5</td>\n",
       "      <td>NaN</td>\n",
       "    </tr>\n",
       "    <tr>\n",
       "      <th>12</th>\n",
       "      <td>14.9</td>\n",
       "      <td>14.0</td>\n",
       "      <td>14.6</td>\n",
       "      <td>14.7</td>\n",
       "      <td>15.1</td>\n",
       "      <td>13.9</td>\n",
       "      <td>16.2</td>\n",
       "      <td>17.1</td>\n",
       "      <td>15.6</td>\n",
       "      <td>14.9</td>\n",
       "      <td>NaN</td>\n",
       "    </tr>\n",
       "  </tbody>\n",
       "</table>\n",
       "</div>"
      ],
      "text/plain": [
       "Year   2009  2010  2011  2012  2013  2014  2015  2016  2017  2018  2019\n",
       "Month                                                                  \n",
       "1      14.8  12.9  12.4  13.0  12.1  13.4  12.8  15.6  15.2  13.7  13.7\n",
       "2      18.3  18.1  17.0  16.3  16.8  15.7  18.8  19.0  19.4  18.2  16.7\n",
       "3      23.5  25.9  22.9  23.0  23.2  21.7  21.6  25.7  24.5  24.6  22.4\n",
       "4      29.7  32.5  28.0  28.4  29.0  28.1  28.0  32.4  31.9  29.8  31.0\n",
       "5      32.4  34.6  33.2  33.6  33.8  31.6  33.6  34.7  33.9  32.7  33.8\n",
       "6      34.6  34.4  32.7  36.1  32.5  34.9  32.6  35.0  32.9  34.3  35.7\n",
       "7      32.1  31.1  30.7  31.9  30.6  32.1  30.5  30.9  31.4  31.2  31.8\n",
       "8      30.9  29.6  29.9  29.3  29.6  31.5  30.5  30.9  31.0  30.5   NaN\n",
       "9      28.9  27.8  29.2  29.2  29.9  29.8  30.7  31.1  30.4  28.4   NaN\n",
       "10     25.1  26.1  25.7  24.9  26.3  26.6  26.9  28.0  27.3  26.0   NaN\n",
       "11     19.4  20.4  20.9  18.9  18.8  19.8  20.8  21.8  19.0  21.5   NaN\n",
       "12     14.9  14.0  14.6  14.7  15.1  13.9  16.2  17.1  15.6  14.9   NaN"
      ]
     },
     "execution_count": 30,
     "metadata": {},
     "output_type": "execute_result"
    }
   ],
   "source": [
    "pivot #print the pivot table "
   ]
  },
  {
   "cell_type": "code",
   "execution_count": 31,
   "id": "06226502",
   "metadata": {},
   "outputs": [
    {
     "data": {
      "text/plain": [
       "Text(0.5, 0, 'Month')"
      ]
     },
     "execution_count": 31,
     "metadata": {},
     "output_type": "execute_result"
    },
    {
     "data": {
      "image/png": "[encoded data removed]",
      "text/plain": [
       "<Figure size 432x288 with 1 Axes>"
      ]
     },
     "metadata": {
      "needs_background": "light"
     },
     "output_type": "display_data"
    }
   ],
   "source": [
    "pivot.plot() #getting the plot of the table\n",
    "plt.ylabel('Temperature') #assigning the y-label\n",
    "plt.xlabel('Month') #assigning the x-label"
   ]
  },
  {
   "cell_type": "markdown",
   "id": "da13b04d",
   "metadata": {},
   "source": [
    "The above graph visualises the trend in monthly avg temperature over the past 10 years "
   ]
  },
  {
   "cell_type": "code",
   "execution_count": 32,
   "id": "57d935c5",
   "metadata": {},
   "outputs": [],
   "source": [
    "monthly_seasonality=pivot.mean(axis=1)#getting the seasonality factor by taking the mean across the vertical axis"
   ]
  },
  {
   "cell_type": "code",
   "execution_count": 33,
   "id": "42a0ebfd",
   "metadata": {},
   "outputs": [
    {
     "data": {
      "text/plain": [
       "<AxesSubplot:xlabel='Month'>"
      ]
     },
     "execution_count": 33,
     "metadata": {},
     "output_type": "execute_result"
    },
    {
     "data": {
      "image/png": "[encoded data removed]",
      "text/plain": [
       "<Figure size 432x288 with 1 Axes>"
      ]
     },
     "metadata": {
      "needs_background": "light"
     },
     "output_type": "display_data"
    }
   ],
   "source": [
    "monthly_seasonality.plot()"
   ]
  },
  {
   "cell_type": "markdown",
   "id": "8b463d9c",
   "metadata": {},
   "source": [
    "The above graph shows the seasonality trend over the years "
   ]
  },
  {
   "cell_type": "code",
   "execution_count": null,
   "id": "400d1955",
   "metadata": {},
   "outputs": [],
   "source": []
  }
 ],
 "metadata": {
  "kernelspec": {
   "display_name": "Python 3",
   "language": "python",
   "name": "python3"
  },
  "language_info": {
   "codemirror_mode": {
    "name": "ipython",
    "version": 3
   },
   "file_extension": ".py",
   "mimetype": "text/x-python",
   "name": "python",
   "nbconvert_exporter": "python",
   "pygments_lexer": "ipython3",
   "version": "3.8.8"
  }
  
 },
 "nbformat": 4,
 "nbformat_minor": 5
}
