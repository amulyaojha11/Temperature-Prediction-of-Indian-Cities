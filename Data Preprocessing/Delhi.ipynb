{
  "nbformat": 4,
  "nbformat_minor": 5,
  "metadata": {
    "kernelspec": {
      "display_name": "Python 3",
      "language": "python",
      "name": "python3"
    },
    "language_info": {
      "codemirror_mode": {
        "name": "ipython",
        "version": 3
      },
      "file_extension": ".py",
      "mimetype": "text/x-python",
      "name": "python",
      "nbconvert_exporter": "python",
      "pygments_lexer": "ipython3",
      "version": "3.8.8"
    },
    "colab": {
      "name": "Delhi.ipynb",
      "provenance": [],
      "include_colab_link": true
    }
  },
  "cells": [
    {
      "cell_type": "markdown",
      "metadata": {
        "id": "view-in-github",
        "colab_type": "text"
      },
      "source": [
        "<a href=\"https://colab.research.google.com/github/amulyaojha11/Temperature-Prediction-of-Indian-Cities/blob/main/Data%20Preprocessing/Delhi.ipynb\" target=\"_parent\"><img src=\"https://colab.research.google.com/assets/colab-badge.svg\" alt=\"Open In Colab\"/></a>"
      ]
    },
    {
      "cell_type": "markdown",
      "metadata": {
        "id": "36bc98cd"
      },
      "source": [
        "# ARIMA and Seasonal ARIMA\n",
        "## Autoregressive Integrated Moving Averages\n",
        "#The general process for ARIMA models is the following:\n",
        "  *  Visualize the Time Series Data\n",
        "  * Make the time series data stationary  \n",
        "  * Plot the Correlation and AutoCorrelation Charts\n",
        "  * Construct the ARIMA Model or Seasonal ARIMA based on the data\n",
        "  * Use the model to make predictions\n",
        "\n"
      ],
      "id": "36bc98cd"
    },
    {
      "cell_type": "code",
      "metadata": {
        "id": "f2d8f2df"
      },
      "source": [
        "import numpy as np\n",
        "import pandas as pd\n",
        "\n",
        "import matplotlib.pyplot as plt\n",
        "%matplotlib inline"
      ],
      "id": "f2d8f2df",
      "execution_count": 1,
      "outputs": []
    },
    {
      "cell_type": "code",
      "metadata": {
        "id": "cc412346"
      },
      "source": [
        "df=pd.read_csv('Delhi.csv',index_col='Date' )"
      ],
      "id": "cc412346",
      "execution_count": 7,
      "outputs": []
    },
    {
      "cell_type": "code",
      "metadata": {
        "colab": {
          "base_uri": "https://localhost:8080/",
          "height": 235
        },
        "id": "84c8de1c",
        "outputId": "51a083e0-f5f3-4685-f43a-623f0831d561"
      },
      "source": [
        "df.head()"
      ],
      "id": "84c8de1c",
      "execution_count": 8,
      "outputs": [
        {
          "output_type": "execute_result",
          "data": {
            "text/html": [
              "<div>\n",
              "<style scoped>\n",
              "    .dataframe tbody tr th:only-of-type {\n",
              "        vertical-align: middle;\n",
              "    }\n",
              "\n",
              "    .dataframe tbody tr th {\n",
              "        vertical-align: top;\n",
              "    }\n",
              "\n",
              "    .dataframe thead th {\n",
              "        text-align: right;\n",
              "    }\n",
              "</style>\n",
              "<table border=\"1\" class=\"dataframe\">\n",
              "  <thead>\n",
              "    <tr style=\"text-align: right;\">\n",
              "      <th></th>\n",
              "      <th>Temperature</th>\n",
              "    </tr>\n",
              "    <tr>\n",
              "      <th>Date</th>\n",
              "      <th></th>\n",
              "    </tr>\n",
              "  </thead>\n",
              "  <tbody>\n",
              "    <tr>\n",
              "      <th>2009-01-01</th>\n",
              "      <td>14.8</td>\n",
              "    </tr>\n",
              "    <tr>\n",
              "      <th>2009-02-01</th>\n",
              "      <td>18.3</td>\n",
              "    </tr>\n",
              "    <tr>\n",
              "      <th>2009-03-01</th>\n",
              "      <td>23.5</td>\n",
              "    </tr>\n",
              "    <tr>\n",
              "      <th>2009-04-01</th>\n",
              "      <td>29.7</td>\n",
              "    </tr>\n",
              "    <tr>\n",
              "      <th>2009-05-01</th>\n",
              "      <td>32.4</td>\n",
              "    </tr>\n",
              "  </tbody>\n",
              "</table>\n",
              "</div>"
            ],
            "text/plain": [
              "            Temperature\n",
              "Date                   \n",
              "2009-01-01         14.8\n",
              "2009-02-01         18.3\n",
              "2009-03-01         23.5\n",
              "2009-04-01         29.7\n",
              "2009-05-01         32.4"
            ]
          },
          "metadata": {},
          "execution_count": 8
        }
      ]
    },
    {
      "cell_type": "code",
      "metadata": {
        "colab": {
          "base_uri": "https://localhost:8080/",
          "height": 235
        },
        "id": "0fa419e0",
        "outputId": "87157f75-569d-4409-e8b2-10cb6484a9be"
      },
      "source": [
        "df.tail()"
      ],
      "id": "0fa419e0",
      "execution_count": 9,
      "outputs": [
        {
          "output_type": "execute_result",
          "data": {
            "text/html": [
              "<div>\n",
              "<style scoped>\n",
              "    .dataframe tbody tr th:only-of-type {\n",
              "        vertical-align: middle;\n",
              "    }\n",
              "\n",
              "    .dataframe tbody tr th {\n",
              "        vertical-align: top;\n",
              "    }\n",
              "\n",
              "    .dataframe thead th {\n",
              "        text-align: right;\n",
              "    }\n",
              "</style>\n",
              "<table border=\"1\" class=\"dataframe\">\n",
              "  <thead>\n",
              "    <tr style=\"text-align: right;\">\n",
              "      <th></th>\n",
              "      <th>Temperature</th>\n",
              "    </tr>\n",
              "    <tr>\n",
              "      <th>Date</th>\n",
              "      <th></th>\n",
              "    </tr>\n",
              "  </thead>\n",
              "  <tbody>\n",
              "    <tr>\n",
              "      <th>2019-03-01</th>\n",
              "      <td>22.4</td>\n",
              "    </tr>\n",
              "    <tr>\n",
              "      <th>2019-04-01</th>\n",
              "      <td>31.0</td>\n",
              "    </tr>\n",
              "    <tr>\n",
              "      <th>2019-05-01</th>\n",
              "      <td>33.8</td>\n",
              "    </tr>\n",
              "    <tr>\n",
              "      <th>2019-06-01</th>\n",
              "      <td>35.7</td>\n",
              "    </tr>\n",
              "    <tr>\n",
              "      <th>2019-07-01</th>\n",
              "      <td>31.8</td>\n",
              "    </tr>\n",
              "  </tbody>\n",
              "</table>\n",
              "</div>"
            ],
            "text/plain": [
              "            Temperature\n",
              "Date                   \n",
              "2019-03-01         22.4\n",
              "2019-04-01         31.0\n",
              "2019-05-01         33.8\n",
              "2019-06-01         35.7\n",
              "2019-07-01         31.8"
            ]
          },
          "metadata": {},
          "execution_count": 9
        }
      ]
    },
    {
      "cell_type": "code",
      "metadata": {
        "id": "c586d109"
      },
      "source": [
        "df.dropna(inplace=True)"
      ],
      "id": "c586d109",
      "execution_count": 10,
      "outputs": []
    },
    {
      "cell_type": "code",
      "metadata": {
        "colab": {
          "base_uri": "https://localhost:8080/",
          "height": 296
        },
        "id": "8b87eadd",
        "outputId": "4fa44228-5340-48d1-c1f5-aaa902562db2"
      },
      "source": [
        "df.plot()"
      ],
      "id": "8b87eadd",
      "execution_count": 11,
      "outputs": [
        {
          "output_type": "execute_result",
          "data": {
            "text/plain": [
              "<matplotlib.axes._subplots.AxesSubplot at 0x7f04cfa35e50>"
            ]
          },
          "metadata": {},
          "execution_count": 11
        },
        {
          "output_type": "display_data",
          "data": {
            "image/png": "[encoded data removed]",
            "text/plain": [
              "<Figure size 432x288 with 1 Axes>"
            ]
          },
          "metadata": {
            "needs_background": "light"
          }
        }
      ]
    },
    {
      "cell_type": "markdown",
      "metadata": {
        "id": "338ad105"
      },
      "source": [
        "# Testing for Stationarity"
      ],
      "id": "338ad105"
    },
    {
      "cell_type": "code",
      "metadata": {
        "colab": {
          "base_uri": "https://localhost:8080/"
        },
        "id": "c92ea366",
        "outputId": "0a626af6-2e0d-4bf4-99d3-d33a00cea9c5"
      },
      "source": [
        "from statsmodels.tsa.stattools import adfuller"
      ],
      "id": "c92ea366",
      "execution_count": 12,
      "outputs": [
        {
          "output_type": "stream",
          "name": "stderr",
          "text": [
            "/usr/local/lib/python3.7/dist-packages/statsmodels/tools/_testing.py:19: FutureWarning: pandas.util.testing is deprecated. Use the functions in the public API at pandas.testing instead.\n",
            "  import pandas.util.testing as tm\n"
          ]
        }
      ]
    },
    {
      "cell_type": "code",
      "metadata": {
        "colab": {
          "base_uri": "https://localhost:8080/"
        },
        "id": "0870624b",
        "outputId": "58dfd894-50ea-4498-f532-5b8d5aad6614"
      },
      "source": [
        "def ad_test(dataset):\n",
        "     dftest = adfuller(dataset)\n",
        "     print(\"1. ADF : \",dftest[0])\n",
        "     print(\"2. P-Value : \", dftest[1])\n",
        "     print(\"3. Num Of Lags : \", dftest[2])\n",
        "     print(\"4. Num Of Observations Used For ADF Regression:\",      dftest[3])\n",
        "     print(\"5. Critical Values :\")\n",
        "     for key, val in dftest[4].items():\n",
        "         print(\"\\t\",key, \": \", val)\n",
        "     if dftest[1] <= 0.05:\n",
        "        print(\"Data is stationary\")\n",
        "     else:\n",
        "        print(\"Data is non-stationary \")\n",
        "    \n",
        "ad_test(df['Temperature'])"
      ],
      "id": "0870624b",
      "execution_count": 13,
      "outputs": [
        {
          "output_type": "stream",
          "name": "stdout",
          "text": [
            "1. ADF :  -1.7331044251336358\n",
            "2. P-Value :  0.41414182197652416\n",
            "3. Num Of Lags :  13\n",
            "4. Num Of Observations Used For ADF Regression: 113\n",
            "5. Critical Values :\n",
            "\t 1% :  -3.489589552580676\n",
            "\t 5% :  -2.887477210140433\n",
            "\t 10% :  -2.580604145195395\n",
            "Data is non-stationary \n"
          ]
        }
      ]
    },
    {
      "cell_type": "markdown",
      "metadata": {
        "id": "8073e6bb"
      },
      "source": [
        "## Differencing"
      ],
      "id": "8073e6bb"
    },
    {
      "cell_type": "code",
      "metadata": {
        "id": "2c81fe4c"
      },
      "source": [
        "df['Seasonal First Difference']=df['Temperature']-df['Temperature'].shift(12)"
      ],
      "id": "2c81fe4c",
      "execution_count": 14,
      "outputs": []
    },
    {
      "cell_type": "code",
      "metadata": {
        "colab": {
          "base_uri": "https://localhost:8080/",
          "height": 235
        },
        "id": "1f619cb6",
        "outputId": "66d5fec7-1cfc-4b0a-fcff-e723ec78b91a"
      },
      "source": [
        "df.head()"
      ],
      "id": "1f619cb6",
      "execution_count": 15,
      "outputs": [
        {
          "output_type": "execute_result",
          "data": {
            "text/html": [
              "<div>\n",
              "<style scoped>\n",
              "    .dataframe tbody tr th:only-of-type {\n",
              "        vertical-align: middle;\n",
              "    }\n",
              "\n",
              "    .dataframe tbody tr th {\n",
              "        vertical-align: top;\n",
              "    }\n",
              "\n",
              "    .dataframe thead th {\n",
              "        text-align: right;\n",
              "    }\n",
              "</style>\n",
              "<table border=\"1\" class=\"dataframe\">\n",
              "  <thead>\n",
              "    <tr style=\"text-align: right;\">\n",
              "      <th></th>\n",
              "      <th>Temperature</th>\n",
              "      <th>Seasonal First Difference</th>\n",
              "    </tr>\n",
              "    <tr>\n",
              "      <th>Date</th>\n",
              "      <th></th>\n",
              "      <th></th>\n",
              "    </tr>\n",
              "  </thead>\n",
              "  <tbody>\n",
              "    <tr>\n",
              "      <th>2009-01-01</th>\n",
              "      <td>14.8</td>\n",
              "      <td>NaN</td>\n",
              "    </tr>\n",
              "    <tr>\n",
              "      <th>2009-02-01</th>\n",
              "      <td>18.3</td>\n",
              "      <td>NaN</td>\n",
              "    </tr>\n",
              "    <tr>\n",
              "      <th>2009-03-01</th>\n",
              "      <td>23.5</td>\n",
              "      <td>NaN</td>\n",
              "    </tr>\n",
              "    <tr>\n",
              "      <th>2009-04-01</th>\n",
              "      <td>29.7</td>\n",
              "      <td>NaN</td>\n",
              "    </tr>\n",
              "    <tr>\n",
              "      <th>2009-05-01</th>\n",
              "      <td>32.4</td>\n",
              "      <td>NaN</td>\n",
              "    </tr>\n",
              "  </tbody>\n",
              "</table>\n",
              "</div>"
            ],
            "text/plain": [
              "            Temperature  Seasonal First Difference\n",
              "Date                                              \n",
              "2009-01-01         14.8                        NaN\n",
              "2009-02-01         18.3                        NaN\n",
              "2009-03-01         23.5                        NaN\n",
              "2009-04-01         29.7                        NaN\n",
              "2009-05-01         32.4                        NaN"
            ]
          },
          "metadata": {},
          "execution_count": 15
        }
      ]
    },
    {
      "cell_type": "code",
      "metadata": {
        "colab": {
          "base_uri": "https://localhost:8080/"
        },
        "id": "37d746a2",
        "outputId": "121e9b47-2535-477b-a449-7fc58312c220"
      },
      "source": [
        "ad_test(df['Seasonal First Difference'].dropna())"
      ],
      "id": "37d746a2",
      "execution_count": 16,
      "outputs": [
        {
          "output_type": "stream",
          "name": "stdout",
          "text": [
            "1. ADF :  -2.8226702453506007\n",
            "2. P-Value :  0.05510774185780258\n",
            "3. Num Of Lags :  12\n",
            "4. Num Of Observations Used For ADF Regression: 102\n",
            "5. Critical Values :\n",
            "\t 1% :  -3.4961490537199116\n",
            "\t 5% :  -2.8903209639580556\n",
            "\t 10% :  -2.5821223452518263\n",
            "Data is non-stationary \n"
          ]
        }
      ]
    },
    {
      "cell_type": "code",
      "metadata": {
        "colab": {
          "base_uri": "https://localhost:8080/",
          "height": 296
        },
        "id": "024fc1ab",
        "outputId": "e9ccb1a1-df9c-4746-ee6d-89dbecdd0d1f"
      },
      "source": [
        "df['Seasonal First Difference'].plot()"
      ],
      "id": "024fc1ab",
      "execution_count": 17,
      "outputs": [
        {
          "output_type": "execute_result",
          "data": {
            "text/plain": [
              "<matplotlib.axes._subplots.AxesSubplot at 0x7f04c014fc50>"
            ]
          },
          "metadata": {},
          "execution_count": 17
        },
        {
          "output_type": "display_data",
          "data": {
            "image/png": "[encoded data removed]",
            "text/plain": [
              "<Figure size 432x288 with 1 Axes>"
            ]
          },
          "metadata": {
            "needs_background": "light"
          }
        }
      ]
    },
    {
      "cell_type": "code",
      "metadata": {
        "id": "512cc594"
      },
      "source": [
        "df['Seasonal Second Difference']=df['Seasonal First Difference']-df['Seasonal First Difference'].shift(12)"
      ],
      "id": "512cc594",
      "execution_count": 18,
      "outputs": []
    },
    {
      "cell_type": "code",
      "metadata": {
        "colab": {
          "base_uri": "https://localhost:8080/",
          "height": 235
        },
        "id": "4b259f00",
        "outputId": "7a05baa1-40c5-441d-be48-781f1e2c1bb1"
      },
      "source": [
        "df.head()"
      ],
      "id": "4b259f00",
      "execution_count": 19,
      "outputs": [
        {
          "output_type": "execute_result",
          "data": {
            "text/html": [
              "<div>\n",
              "<style scoped>\n",
              "    .dataframe tbody tr th:only-of-type {\n",
              "        vertical-align: middle;\n",
              "    }\n",
              "\n",
              "    .dataframe tbody tr th {\n",
              "        vertical-align: top;\n",
              "    }\n",
              "\n",
              "    .dataframe thead th {\n",
              "        text-align: right;\n",
              "    }\n",
              "</style>\n",
              "<table border=\"1\" class=\"dataframe\">\n",
              "  <thead>\n",
              "    <tr style=\"text-align: right;\">\n",
              "      <th></th>\n",
              "      <th>Temperature</th>\n",
              "      <th>Seasonal First Difference</th>\n",
              "      <th>Seasonal Second Difference</th>\n",
              "    </tr>\n",
              "    <tr>\n",
              "      <th>Date</th>\n",
              "      <th></th>\n",
              "      <th></th>\n",
              "      <th></th>\n",
              "    </tr>\n",
              "  </thead>\n",
              "  <tbody>\n",
              "    <tr>\n",
              "      <th>2009-01-01</th>\n",
              "      <td>14.8</td>\n",
              "      <td>NaN</td>\n",
              "      <td>NaN</td>\n",
              "    </tr>\n",
              "    <tr>\n",
              "      <th>2009-02-01</th>\n",
              "      <td>18.3</td>\n",
              "      <td>NaN</td>\n",
              "      <td>NaN</td>\n",
              "    </tr>\n",
              "    <tr>\n",
              "      <th>2009-03-01</th>\n",
              "      <td>23.5</td>\n",
              "      <td>NaN</td>\n",
              "      <td>NaN</td>\n",
              "    </tr>\n",
              "    <tr>\n",
              "      <th>2009-04-01</th>\n",
              "      <td>29.7</td>\n",
              "      <td>NaN</td>\n",
              "      <td>NaN</td>\n",
              "    </tr>\n",
              "    <tr>\n",
              "      <th>2009-05-01</th>\n",
              "      <td>32.4</td>\n",
              "      <td>NaN</td>\n",
              "      <td>NaN</td>\n",
              "    </tr>\n",
              "  </tbody>\n",
              "</table>\n",
              "</div>"
            ],
            "text/plain": [
              "            Temperature  Seasonal First Difference  Seasonal Second Difference\n",
              "Date                                                                          \n",
              "2009-01-01         14.8                        NaN                         NaN\n",
              "2009-02-01         18.3                        NaN                         NaN\n",
              "2009-03-01         23.5                        NaN                         NaN\n",
              "2009-04-01         29.7                        NaN                         NaN\n",
              "2009-05-01         32.4                        NaN                         NaN"
            ]
          },
          "metadata": {},
          "execution_count": 19
        }
      ]
    },
    {
      "cell_type": "code",
      "metadata": {
        "colab": {
          "base_uri": "https://localhost:8080/"
        },
        "id": "2980067a",
        "outputId": "89a3301e-a8f5-4838-d81c-c805a2674638"
      },
      "source": [
        "ad_test(df['Seasonal Second Difference'].dropna())"
      ],
      "id": "2980067a",
      "execution_count": 20,
      "outputs": [
        {
          "output_type": "stream",
          "name": "stdout",
          "text": [
            "1. ADF :  -3.7777604117543557\n",
            "2. P-Value :  0.003143229356806359\n",
            "3. Num Of Lags :  13\n",
            "4. Num Of Observations Used For ADF Regression: 89\n",
            "5. Critical Values :\n",
            "\t 1% :  -3.506057133647011\n",
            "\t 5% :  -2.8946066061911946\n",
            "\t 10% :  -2.5844100201994697\n",
            "Data is stationary\n"
          ]
        }
      ]
    },
    {
      "cell_type": "code",
      "metadata": {
        "colab": {
          "base_uri": "https://localhost:8080/",
          "height": 296
        },
        "id": "1d64a8d1",
        "outputId": "f1987578-8803-4c2b-efea-7da2c293ea67"
      },
      "source": [
        "df['Seasonal Second Difference'].plot()"
      ],
      "id": "1d64a8d1",
      "execution_count": 21,
      "outputs": [
        {
          "output_type": "execute_result",
          "data": {
            "text/plain": [
              "<matplotlib.axes._subplots.AxesSubplot at 0x7f04b7630a10>"
            ]
          },
          "metadata": {},
          "execution_count": 21
        },
        {
          "output_type": "display_data",
          "data": {
            "image/png": "[encoded data removed]",
            "text/plain": [
              "<Figure size 432x288 with 1 Axes>"
            ]
          },
          "metadata": {
            "needs_background": "light"
          }
        }
      ]
    }
  ]
}