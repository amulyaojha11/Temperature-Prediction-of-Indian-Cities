{
  "nbformat": 4,
  "nbformat_minor": 5,
  "metadata": {
    "kernelspec": {
      "display_name": "Python 3",
      "language": "python",
      "name": "python3"
    },
    "language_info": {
      "codemirror_mode": {
        "name": "ipython",
        "version": 3
      },
      "file_extension": ".py",
      "mimetype": "text/x-python",
      "name": "python",
      "nbconvert_exporter": "python",
      "pygments_lexer": "ipython3",
      "version": "3.8.8"
    },
    "colab": {
      "name": "Kolkata.ipynb",
      "provenance": [],
      "include_colab_link": true
    }
  },
  "cells": [
    {
      "cell_type": "markdown",
      "metadata": {
        "id": "view-in-github",
        "colab_type": "text"
      },
      "source": [
        "<a href=\"https://colab.research.google.com/github/amulyaojha11/Temperature-Prediction-of-Indian-Cities/blob/main/Data%20Preprocessing/Kolkata.ipynb\" target=\"_parent\"><img src=\"https://colab.research.google.com/assets/colab-badge.svg\" alt=\"Open In Colab\"/></a>"
      ]
    },
    {
      "cell_type": "markdown",
      "metadata": {
        "id": "36bc98cd"
      },
      "source": [
        "# ARIMA and Seasonal ARIMA\n",
        "## Autoregressive Integrated Moving Averages\n",
        "#The general process for ARIMA models is the following:\n",
        "  *  Visualize the Time Series Data\n",
        "  * Make the time series data stationary  \n",
        "  * Plot the Correlation and AutoCorrelation Charts\n",
        "  * Construct the ARIMA Model or Seasonal ARIMA based on the data\n",
        "  * Use the model to make predictions\n",
        "\n"
      ],
      "id": "36bc98cd"
    },
    {
      "cell_type": "code",
      "metadata": {
        "id": "f2d8f2df"
      },
      "source": [
        "import numpy as np\n",
        "import pandas as pd\n",
        "\n",
        "import matplotlib.pyplot as plt\n",
        "%matplotlib inline"
      ],
      "id": "f2d8f2df",
      "execution_count": null,
      "outputs": []
    },
    {
      "cell_type": "code",
      "metadata": {
        "id": "cc412346"
      },
      "source": [
        "df=pd.read_csv('Chennai.csv',index_col='Date' )"
      ],
      "id": "cc412346",
      "execution_count": null,
      "outputs": []
    },
    {
      "cell_type": "code",
      "metadata": {
        "id": "84c8de1c",
        "outputId": "f8d3519a-6560-4a97-e172-cb7f04422391"
      },
      "source": [
        "df.head()"
      ],
      "id": "84c8de1c",
      "execution_count": null,
      "outputs": [
        {
          "data": {
            "text/html": [
              "<div>\n",
              "<style scoped>\n",
              "    .dataframe tbody tr th:only-of-type {\n",
              "        vertical-align: middle;\n",
              "    }\n",
              "\n",
              "    .dataframe tbody tr th {\n",
              "        vertical-align: top;\n",
              "    }\n",
              "\n",
              "    .dataframe thead th {\n",
              "        text-align: right;\n",
              "    }\n",
              "</style>\n",
              "<table border=\"1\" class=\"dataframe\">\n",
              "  <thead>\n",
              "    <tr style=\"text-align: right;\">\n",
              "      <th></th>\n",
              "      <th>Temperature</th>\n",
              "    </tr>\n",
              "    <tr>\n",
              "      <th>Date</th>\n",
              "      <th></th>\n",
              "    </tr>\n",
              "  </thead>\n",
              "  <tbody>\n",
              "    <tr>\n",
              "      <th>2009-01-01</th>\n",
              "      <td>25.1</td>\n",
              "    </tr>\n",
              "    <tr>\n",
              "      <th>2009-02-01</th>\n",
              "      <td>26.6</td>\n",
              "    </tr>\n",
              "    <tr>\n",
              "      <th>2009-03-01</th>\n",
              "      <td>28.5</td>\n",
              "    </tr>\n",
              "    <tr>\n",
              "      <th>2009-04-01</th>\n",
              "      <td>30.8</td>\n",
              "    </tr>\n",
              "    <tr>\n",
              "      <th>2009-05-01</th>\n",
              "      <td>32.1</td>\n",
              "    </tr>\n",
              "  </tbody>\n",
              "</table>\n",
              "</div>"
            ],
            "text/plain": [
              "            Temperature\n",
              "Date                   \n",
              "2009-01-01         25.1\n",
              "2009-02-01         26.6\n",
              "2009-03-01         28.5\n",
              "2009-04-01         30.8\n",
              "2009-05-01         32.1"
            ]
          },
          "execution_count": 53,
          "metadata": {},
          "output_type": "execute_result"
        }
      ]
    },
    {
      "cell_type": "code",
      "metadata": {
        "id": "0fa419e0",
        "outputId": "1305c768-5c74-4e73-e3a2-b885e218c4f9"
      },
      "source": [
        "df.tail()"
      ],
      "id": "0fa419e0",
      "execution_count": null,
      "outputs": [
        {
          "data": {
            "text/html": [
              "<div>\n",
              "<style scoped>\n",
              "    .dataframe tbody tr th:only-of-type {\n",
              "        vertical-align: middle;\n",
              "    }\n",
              "\n",
              "    .dataframe tbody tr th {\n",
              "        vertical-align: top;\n",
              "    }\n",
              "\n",
              "    .dataframe thead th {\n",
              "        text-align: right;\n",
              "    }\n",
              "</style>\n",
              "<table border=\"1\" class=\"dataframe\">\n",
              "  <thead>\n",
              "    <tr style=\"text-align: right;\">\n",
              "      <th></th>\n",
              "      <th>Temperature</th>\n",
              "    </tr>\n",
              "    <tr>\n",
              "      <th>Date</th>\n",
              "      <th></th>\n",
              "    </tr>\n",
              "  </thead>\n",
              "  <tbody>\n",
              "    <tr>\n",
              "      <th>2019-03-01</th>\n",
              "      <td>29.9</td>\n",
              "    </tr>\n",
              "    <tr>\n",
              "      <th>2019-04-01</th>\n",
              "      <td>31.8</td>\n",
              "    </tr>\n",
              "    <tr>\n",
              "      <th>2019-05-01</th>\n",
              "      <td>33.2</td>\n",
              "    </tr>\n",
              "    <tr>\n",
              "      <th>2019-06-01</th>\n",
              "      <td>33.6</td>\n",
              "    </tr>\n",
              "    <tr>\n",
              "      <th>2019-07-01</th>\n",
              "      <td>31.6</td>\n",
              "    </tr>\n",
              "  </tbody>\n",
              "</table>\n",
              "</div>"
            ],
            "text/plain": [
              "            Temperature\n",
              "Date                   \n",
              "2019-03-01         29.9\n",
              "2019-04-01         31.8\n",
              "2019-05-01         33.2\n",
              "2019-06-01         33.6\n",
              "2019-07-01         31.6"
            ]
          },
          "execution_count": 54,
          "metadata": {},
          "output_type": "execute_result"
        }
      ]
    },
    {
      "cell_type": "code",
      "metadata": {
        "id": "c586d109"
      },
      "source": [
        "df.dropna(inplace=True)"
      ],
      "id": "c586d109",
      "execution_count": null,
      "outputs": []
    },
    {
      "cell_type": "markdown",
      "metadata": {
        "id": "c4d88a0b"
      },
      "source": [
        "# Step 2: Visualize the Data"
      ],
      "id": "c4d88a0b"
    },
    {
      "cell_type": "code",
      "metadata": {
        "id": "8b87eadd",
        "outputId": "349b6874-b60c-44bc-bf65-693c0c25be11"
      },
      "source": [
        "df.plot()"
      ],
      "id": "8b87eadd",
      "execution_count": null,
      "outputs": [
        {
          "data": {
            "text/plain": [
              "<AxesSubplot:xlabel='Date'>"
            ]
          },
          "execution_count": 56,
          "metadata": {},
          "output_type": "execute_result"
        },
        {
          "data": {
            "image/png": "[encoded data removed]",
            "text/plain": [
              "<Figure size 432x288 with 1 Axes>"
            ]
          },
          "metadata": {
            "needs_background": "light"
          },
          "output_type": "display_data"
        }
      ]
    },
    {
      "cell_type": "markdown",
      "metadata": {
        "id": "338ad105"
      },
      "source": [
        "# Testing for Stationarity"
      ],
      "id": "338ad105"
    },
    {
      "cell_type": "code",
      "metadata": {
        "id": "c92ea366"
      },
      "source": [
        "from statsmodels.tsa.stattools import adfuller"
      ],
      "id": "c92ea366",
      "execution_count": null,
      "outputs": []
    },
    {
      "cell_type": "code",
      "metadata": {
        "id": "0870624b",
        "outputId": "b16b3b90-4da7-41ba-f055-1825d0d4e3ba"
      },
      "source": [
        "def ad_test(dataset):\n",
        "     dftest = adfuller(dataset)\n",
        "     print(\"1. ADF : \",dftest[0])\n",
        "     print(\"2. P-Value : \", dftest[1])\n",
        "     print(\"3. Num Of Lags : \", dftest[2])\n",
        "     print(\"4. Num Of Observations Used For ADF Regression:\",      dftest[3])\n",
        "     print(\"5. Critical Values :\")\n",
        "     for key, val in dftest[4].items():\n",
        "         print(\"\\t\",key, \": \", val)\n",
        "     if dftest[1] <= 0.05:\n",
        "        print(\"Data is stationary\")\n",
        "     else:\n",
        "        print(\"Data is non-stationary \")\n",
        "    \n",
        "ad_test(df['Temperature'])"
      ],
      "id": "0870624b",
      "execution_count": null,
      "outputs": [
        {
          "name": "stdout",
          "output_type": "stream",
          "text": [
            "1. ADF :  -0.7286056206046391\n",
            "2. P-Value :  0.8392002637998245\n",
            "3. Num Of Lags :  10\n",
            "4. Num Of Observations Used For ADF Regression: 116\n",
            "5. Critical Values :\n",
            "\t 1% :  -3.4880216384691867\n",
            "\t 5% :  -2.8867966864160075\n",
            "\t 10% :  -2.5802408234244947\n",
            "Data is non-stationary \n"
          ]
        }
      ]
    },
    {
      "cell_type": "markdown",
      "metadata": {
        "id": "8073e6bb"
      },
      "source": [
        "## Differencing"
      ],
      "id": "8073e6bb"
    },
    {
      "cell_type": "code",
      "metadata": {
        "id": "2c81fe4c"
      },
      "source": [
        "df['Seasonal First Difference']=df['Temperature']-df['Temperature'].shift(12)"
      ],
      "id": "2c81fe4c",
      "execution_count": null,
      "outputs": []
    },
    {
      "cell_type": "code",
      "metadata": {
        "id": "1f619cb6",
        "outputId": "3f695c20-35a9-44a7-9c1f-c6c39dac05e3"
      },
      "source": [
        "df.head()"
      ],
      "id": "1f619cb6",
      "execution_count": null,
      "outputs": [
        {
          "data": {
            "text/html": [
              "<div>\n",
              "<style scoped>\n",
              "    .dataframe tbody tr th:only-of-type {\n",
              "        vertical-align: middle;\n",
              "    }\n",
              "\n",
              "    .dataframe tbody tr th {\n",
              "        vertical-align: top;\n",
              "    }\n",
              "\n",
              "    .dataframe thead th {\n",
              "        text-align: right;\n",
              "    }\n",
              "</style>\n",
              "<table border=\"1\" class=\"dataframe\">\n",
              "  <thead>\n",
              "    <tr style=\"text-align: right;\">\n",
              "      <th></th>\n",
              "      <th>Temperature</th>\n",
              "      <th>Seasonal First Difference</th>\n",
              "    </tr>\n",
              "    <tr>\n",
              "      <th>Date</th>\n",
              "      <th></th>\n",
              "      <th></th>\n",
              "    </tr>\n",
              "  </thead>\n",
              "  <tbody>\n",
              "    <tr>\n",
              "      <th>2009-01-01</th>\n",
              "      <td>25.1</td>\n",
              "      <td>NaN</td>\n",
              "    </tr>\n",
              "    <tr>\n",
              "      <th>2009-02-01</th>\n",
              "      <td>26.6</td>\n",
              "      <td>NaN</td>\n",
              "    </tr>\n",
              "    <tr>\n",
              "      <th>2009-03-01</th>\n",
              "      <td>28.5</td>\n",
              "      <td>NaN</td>\n",
              "    </tr>\n",
              "    <tr>\n",
              "      <th>2009-04-01</th>\n",
              "      <td>30.8</td>\n",
              "      <td>NaN</td>\n",
              "    </tr>\n",
              "    <tr>\n",
              "      <th>2009-05-01</th>\n",
              "      <td>32.1</td>\n",
              "      <td>NaN</td>\n",
              "    </tr>\n",
              "  </tbody>\n",
              "</table>\n",
              "</div>"
            ],
            "text/plain": [
              "            Temperature  Seasonal First Difference\n",
              "Date                                              \n",
              "2009-01-01         25.1                        NaN\n",
              "2009-02-01         26.6                        NaN\n",
              "2009-03-01         28.5                        NaN\n",
              "2009-04-01         30.8                        NaN\n",
              "2009-05-01         32.1                        NaN"
            ]
          },
          "execution_count": 60,
          "metadata": {},
          "output_type": "execute_result"
        }
      ]
    },
    {
      "cell_type": "code",
      "metadata": {
        "id": "37d746a2",
        "outputId": "9a53210b-b625-4d5f-d8ce-b214df5d0cb5"
      },
      "source": [
        "ad_test(df['Seasonal First Difference'].dropna())"
      ],
      "id": "37d746a2",
      "execution_count": null,
      "outputs": [
        {
          "name": "stdout",
          "output_type": "stream",
          "text": [
            "1. ADF :  -3.2684872693439133\n",
            "2. P-Value :  0.01634721619881861\n",
            "3. Num Of Lags :  12\n",
            "4. Num Of Observations Used For ADF Regression: 102\n",
            "5. Critical Values :\n",
            "\t 1% :  -3.4961490537199116\n",
            "\t 5% :  -2.8903209639580556\n",
            "\t 10% :  -2.5821223452518263\n",
            "Data is stationary\n"
          ]
        }
      ]
    },
    {
      "cell_type": "code",
      "metadata": {
        "id": "024fc1ab",
        "outputId": "b3d080cc-1af8-44cb-9fea-04179097ac71"
      },
      "source": [
        "df['Seasonal First Difference'].plot()"
      ],
      "id": "024fc1ab",
      "execution_count": null,
      "outputs": [
        {
          "data": {
            "text/plain": [
              "<AxesSubplot:xlabel='Date'>"
            ]
          },
          "execution_count": 62,
          "metadata": {},
          "output_type": "execute_result"
        },
        {
          "data": {
            "image/png": "[encoded data removed]",
            "text/plain": [
              "<Figure size 432x288 with 1 Axes>"
            ]
          },
          "metadata": {
            "needs_background": "light"
          },
          "output_type": "display_data"
        }
      ]
    },
    {
      "cell_type": "code",
      "metadata": {
        "id": "512cc594"
      },
      "source": [
        "df['Seasonal Second Difference']=df['Seasonal First Difference']-df['Seasonal First Difference'].shift(12)"
      ],
      "id": "512cc594",
      "execution_count": null,
      "outputs": []
    },
    {
      "cell_type": "code",
      "metadata": {
        "id": "4b259f00",
        "outputId": "b6f10f74-f630-4f7d-84cd-f16c94a9d1d4"
      },
      "source": [
        "df.head()"
      ],
      "id": "4b259f00",
      "execution_count": null,
      "outputs": [
        {
          "data": {
            "text/html": [
              "<div>\n",
              "<style scoped>\n",
              "    .dataframe tbody tr th:only-of-type {\n",
              "        vertical-align: middle;\n",
              "    }\n",
              "\n",
              "    .dataframe tbody tr th {\n",
              "        vertical-align: top;\n",
              "    }\n",
              "\n",
              "    .dataframe thead th {\n",
              "        text-align: right;\n",
              "    }\n",
              "</style>\n",
              "<table border=\"1\" class=\"dataframe\">\n",
              "  <thead>\n",
              "    <tr style=\"text-align: right;\">\n",
              "      <th></th>\n",
              "      <th>Temperature</th>\n",
              "      <th>Seasonal First Difference</th>\n",
              "      <th>Seasonal Second Difference</th>\n",
              "    </tr>\n",
              "    <tr>\n",
              "      <th>Date</th>\n",
              "      <th></th>\n",
              "      <th></th>\n",
              "      <th></th>\n",
              "    </tr>\n",
              "  </thead>\n",
              "  <tbody>\n",
              "    <tr>\n",
              "      <th>2009-01-01</th>\n",
              "      <td>25.1</td>\n",
              "      <td>NaN</td>\n",
              "      <td>NaN</td>\n",
              "    </tr>\n",
              "    <tr>\n",
              "      <th>2009-02-01</th>\n",
              "      <td>26.6</td>\n",
              "      <td>NaN</td>\n",
              "      <td>NaN</td>\n",
              "    </tr>\n",
              "    <tr>\n",
              "      <th>2009-03-01</th>\n",
              "      <td>28.5</td>\n",
              "      <td>NaN</td>\n",
              "      <td>NaN</td>\n",
              "    </tr>\n",
              "    <tr>\n",
              "      <th>2009-04-01</th>\n",
              "      <td>30.8</td>\n",
              "      <td>NaN</td>\n",
              "      <td>NaN</td>\n",
              "    </tr>\n",
              "    <tr>\n",
              "      <th>2009-05-01</th>\n",
              "      <td>32.1</td>\n",
              "      <td>NaN</td>\n",
              "      <td>NaN</td>\n",
              "    </tr>\n",
              "  </tbody>\n",
              "</table>\n",
              "</div>"
            ],
            "text/plain": [
              "            Temperature  Seasonal First Difference  Seasonal Second Difference\n",
              "Date                                                                          \n",
              "2009-01-01         25.1                        NaN                         NaN\n",
              "2009-02-01         26.6                        NaN                         NaN\n",
              "2009-03-01         28.5                        NaN                         NaN\n",
              "2009-04-01         30.8                        NaN                         NaN\n",
              "2009-05-01         32.1                        NaN                         NaN"
            ]
          },
          "execution_count": 64,
          "metadata": {},
          "output_type": "execute_result"
        }
      ]
    },
    {
      "cell_type": "code",
      "metadata": {
        "id": "2980067a",
        "outputId": "a788ea51-10a0-47c1-dcb1-356a0db3526a"
      },
      "source": [
        "ad_test(df['Seasonal Second Difference'].dropna())"
      ],
      "id": "2980067a",
      "execution_count": null,
      "outputs": [
        {
          "name": "stdout",
          "output_type": "stream",
          "text": [
            "1. ADF :  -2.8961680093485853\n",
            "2. P-Value :  0.04579542392629091\n",
            "3. Num Of Lags :  12\n",
            "4. Num Of Observations Used For ADF Regression: 90\n",
            "5. Critical Values :\n",
            "\t 1% :  -3.505190196159122\n",
            "\t 5% :  -2.894232085048011\n",
            "\t 10% :  -2.5842101234567902\n",
            "Data is stationary\n"
          ]
        }
      ]
    },
    {
      "cell_type": "code",
      "metadata": {
        "id": "1d64a8d1",
        "outputId": "0ad86c6c-bcbe-4203-a717-a5d99f274197"
      },
      "source": [
        "df['Seasonal Second Difference'].plot()"
      ],
      "id": "1d64a8d1",
      "execution_count": null,
      "outputs": [
        {
          "data": {
            "text/plain": [
              "<AxesSubplot:xlabel='Date'>"
            ]
          },
          "execution_count": 66,
          "metadata": {},
          "output_type": "execute_result"
        },
        {
          "data": {
            "image/png": "[encoded data removed]",
            "text/plain": [
              "<Figure size 432x288 with 1 Axes>"
            ]
          },
          "metadata": {
            "needs_background": "light"
          },
          "output_type": "display_data"
        }
      ]
    }
  ]
}